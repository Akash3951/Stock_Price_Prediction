{
  "cells": [
    {
      "cell_type": "code",
      "execution_count": 180,
      "metadata": {
        "colab": {
          "base_uri": "https://localhost:8080/"
        },
        "id": "BNjrQSNSDaVr",
        "outputId": "2cae3ead-748b-44cc-83e6-13c85441ae59"
      },
      "outputs": [],
      "source": [
        "#Pip install requirements.txt file "
      ]
    },
    {
      "cell_type": "code",
      "execution_count": 181,
      "metadata": {
        "id": "x1JHZ58YETiv"
      },
      "outputs": [],
      "source": [
        "import yfinance as yf\n",
        "import pandas as pd\n",
        "import numpy as np\n",
        "import matplotlib.pyplot as plt\n",
        "import seaborn as sns\n",
        "import pickle"
      ]
    },
    {
      "cell_type": "code",
      "execution_count": 182,
      "metadata": {
        "colab": {
          "base_uri": "https://localhost:8080/",
          "height": 36
        },
        "id": "QZXlH7S8En9W",
        "outputId": "91220e2e-77ac-4d2f-b35f-3fdd6439063e"
      },
      "outputs": [
        {
          "data": {
            "text/plain": [
              "'0.2.55'"
            ]
          },
          "execution_count": 182,
          "metadata": {},
          "output_type": "execute_result"
        }
      ],
      "source": [
        "yf.__version__"
      ]
    },
    {
      "cell_type": "code",
      "execution_count": 183,
      "metadata": {
        "id": "gXV6IblXJAbd"
      },
      "outputs": [],
      "source": [
        "tickers = ['RELIANCE.NS', 'TCS.NS', 'INFY.NS', 'HDFCBANK.NS',\n",
        "           'ICICIBANK.NS', 'SBIN.NS', 'HINDUNILVR.NS',\n",
        "           'BHARTIARTL.NS', 'LT.NS', 'WIPRO.NS']"
      ]
    },
    {
      "cell_type": "code",
      "execution_count": 184,
      "metadata": {
        "colab": {
          "base_uri": "https://localhost:8080/"
        },
        "id": "UUhY8dLME1Rt",
        "outputId": "736e4679-62fd-4f7d-9527-7cc9506c7ac9"
      },
      "outputs": [
        {
          "name": "stderr",
          "output_type": "stream",
          "text": [
            "[*********************100%***********************]  10 of 10 completed\n"
          ]
        }
      ],
      "source": [
        "data = yf.download(tickers, start='2014-01-01')"
      ]
    },
    {
      "cell_type": "code",
      "execution_count": 185,
      "metadata": {
        "colab": {
          "base_uri": "https://localhost:8080/",
          "height": 680
        },
        "id": "TA31wQzjFM7G",
        "outputId": "e063a83e-55d0-4058-bf29-8f5f0c6856e4"
      },
      "outputs": [
        {
          "data": {
            "text/html": [
              "<div>\n",
              "<style scoped>\n",
              "    .dataframe tbody tr th:only-of-type {\n",
              "        vertical-align: middle;\n",
              "    }\n",
              "\n",
              "    .dataframe tbody tr th {\n",
              "        vertical-align: top;\n",
              "    }\n",
              "\n",
              "    .dataframe thead tr th {\n",
              "        text-align: left;\n",
              "    }\n",
              "\n",
              "    .dataframe thead tr:last-of-type th {\n",
              "        text-align: right;\n",
              "    }\n",
              "</style>\n",
              "<table border=\"1\" class=\"dataframe\">\n",
              "  <thead>\n",
              "    <tr>\n",
              "      <th>Price</th>\n",
              "      <th colspan=\"10\" halign=\"left\">Close</th>\n",
              "      <th>...</th>\n",
              "      <th colspan=\"10\" halign=\"left\">Volume</th>\n",
              "    </tr>\n",
              "    <tr>\n",
              "      <th>Ticker</th>\n",
              "      <th>BHARTIARTL.NS</th>\n",
              "      <th>HDFCBANK.NS</th>\n",
              "      <th>HINDUNILVR.NS</th>\n",
              "      <th>ICICIBANK.NS</th>\n",
              "      <th>INFY.NS</th>\n",
              "      <th>LT.NS</th>\n",
              "      <th>RELIANCE.NS</th>\n",
              "      <th>SBIN.NS</th>\n",
              "      <th>TCS.NS</th>\n",
              "      <th>WIPRO.NS</th>\n",
              "      <th>...</th>\n",
              "      <th>BHARTIARTL.NS</th>\n",
              "      <th>HDFCBANK.NS</th>\n",
              "      <th>HINDUNILVR.NS</th>\n",
              "      <th>ICICIBANK.NS</th>\n",
              "      <th>INFY.NS</th>\n",
              "      <th>LT.NS</th>\n",
              "      <th>RELIANCE.NS</th>\n",
              "      <th>SBIN.NS</th>\n",
              "      <th>TCS.NS</th>\n",
              "      <th>WIPRO.NS</th>\n",
              "    </tr>\n",
              "    <tr>\n",
              "      <th>Date</th>\n",
              "      <th></th>\n",
              "      <th></th>\n",
              "      <th></th>\n",
              "      <th></th>\n",
              "      <th></th>\n",
              "      <th></th>\n",
              "      <th></th>\n",
              "      <th></th>\n",
              "      <th></th>\n",
              "      <th></th>\n",
              "      <th></th>\n",
              "      <th></th>\n",
              "      <th></th>\n",
              "      <th></th>\n",
              "      <th></th>\n",
              "      <th></th>\n",
              "      <th></th>\n",
              "      <th></th>\n",
              "      <th></th>\n",
              "      <th></th>\n",
              "      <th></th>\n",
              "    </tr>\n",
              "  </thead>\n",
              "  <tbody>\n",
              "    <tr>\n",
              "      <th>2014-01-01</th>\n",
              "      <td>286.472473</td>\n",
              "      <td>305.065735</td>\n",
              "      <td>480.623138</td>\n",
              "      <td>175.985123</td>\n",
              "      <td>326.585999</td>\n",
              "      <td>602.980042</td>\n",
              "      <td>191.839493</td>\n",
              "      <td>158.148209</td>\n",
              "      <td>850.948242</td>\n",
              "      <td>97.348900</td>\n",
              "      <td>...</td>\n",
              "      <td>1883623</td>\n",
              "      <td>2246218</td>\n",
              "      <td>251204</td>\n",
              "      <td>3102869</td>\n",
              "      <td>1478688</td>\n",
              "      <td>694318</td>\n",
              "      <td>5849398</td>\n",
              "      <td>5904780</td>\n",
              "      <td>529952</td>\n",
              "      <td>2362703</td>\n",
              "    </tr>\n",
              "    <tr>\n",
              "      <th>2014-01-02</th>\n",
              "      <td>278.796448</td>\n",
              "      <td>301.327759</td>\n",
              "      <td>472.267731</td>\n",
              "      <td>172.441986</td>\n",
              "      <td>327.767883</td>\n",
              "      <td>584.640503</td>\n",
              "      <td>188.860901</td>\n",
              "      <td>156.136658</td>\n",
              "      <td>856.362671</td>\n",
              "      <td>97.392929</td>\n",
              "      <td>...</td>\n",
              "      <td>5276461</td>\n",
              "      <td>3614496</td>\n",
              "      <td>531660</td>\n",
              "      <td>11321513</td>\n",
              "      <td>4404744</td>\n",
              "      <td>2322501</td>\n",
              "      <td>6023632</td>\n",
              "      <td>19451900</td>\n",
              "      <td>1726948</td>\n",
              "      <td>4882590</td>\n",
              "    </tr>\n",
              "    <tr>\n",
              "      <th>2014-01-03</th>\n",
              "      <td>279.347809</td>\n",
              "      <td>304.125458</td>\n",
              "      <td>474.450989</td>\n",
              "      <td>171.031204</td>\n",
              "      <td>335.734802</td>\n",
              "      <td>571.097229</td>\n",
              "      <td>186.540604</td>\n",
              "      <td>154.080368</td>\n",
              "      <td>878.177063</td>\n",
              "      <td>98.035812</td>\n",
              "      <td>...</td>\n",
              "      <td>4701341</td>\n",
              "      <td>3256592</td>\n",
              "      <td>1018173</td>\n",
              "      <td>15567502</td>\n",
              "      <td>10046344</td>\n",
              "      <td>3701602</td>\n",
              "      <td>12833897</td>\n",
              "      <td>13759590</td>\n",
              "      <td>2618174</td>\n",
              "      <td>5907534</td>\n",
              "    </tr>\n",
              "    <tr>\n",
              "      <th>2014-01-06</th>\n",
              "      <td>279.347809</td>\n",
              "      <td>303.483459</td>\n",
              "      <td>473.191376</td>\n",
              "      <td>166.862793</td>\n",
              "      <td>331.285156</td>\n",
              "      <td>570.222534</td>\n",
              "      <td>184.533279</td>\n",
              "      <td>151.257965</td>\n",
              "      <td>885.053040</td>\n",
              "      <td>98.282402</td>\n",
              "      <td>...</td>\n",
              "      <td>2704888</td>\n",
              "      <td>2981710</td>\n",
              "      <td>603727</td>\n",
              "      <td>14802265</td>\n",
              "      <td>11098328</td>\n",
              "      <td>2579617</td>\n",
              "      <td>13315857</td>\n",
              "      <td>13907830</td>\n",
              "      <td>2311810</td>\n",
              "      <td>9896413</td>\n",
              "    </tr>\n",
              "    <tr>\n",
              "      <th>2014-01-07</th>\n",
              "      <td>281.341003</td>\n",
              "      <td>304.721710</td>\n",
              "      <td>469.370575</td>\n",
              "      <td>168.337723</td>\n",
              "      <td>325.564240</td>\n",
              "      <td>575.301453</td>\n",
              "      <td>181.759720</td>\n",
              "      <td>148.861191</td>\n",
              "      <td>871.834167</td>\n",
              "      <td>96.908562</td>\n",
              "      <td>...</td>\n",
              "      <td>4110547</td>\n",
              "      <td>3948460</td>\n",
              "      <td>605461</td>\n",
              "      <td>18566515</td>\n",
              "      <td>7713688</td>\n",
              "      <td>2833413</td>\n",
              "      <td>17311470</td>\n",
              "      <td>17352910</td>\n",
              "      <td>2897486</td>\n",
              "      <td>6572222</td>\n",
              "    </tr>\n",
              "    <tr>\n",
              "      <th>...</th>\n",
              "      <td>...</td>\n",
              "      <td>...</td>\n",
              "      <td>...</td>\n",
              "      <td>...</td>\n",
              "      <td>...</td>\n",
              "      <td>...</td>\n",
              "      <td>...</td>\n",
              "      <td>...</td>\n",
              "      <td>...</td>\n",
              "      <td>...</td>\n",
              "      <td>...</td>\n",
              "      <td>...</td>\n",
              "      <td>...</td>\n",
              "      <td>...</td>\n",
              "      <td>...</td>\n",
              "      <td>...</td>\n",
              "      <td>...</td>\n",
              "      <td>...</td>\n",
              "      <td>...</td>\n",
              "      <td>...</td>\n",
              "      <td>...</td>\n",
              "    </tr>\n",
              "    <tr>\n",
              "      <th>2025-04-09</th>\n",
              "      <td>1715.550049</td>\n",
              "      <td>1765.000000</td>\n",
              "      <td>2350.000000</td>\n",
              "      <td>1300.800049</td>\n",
              "      <td>1403.699951</td>\n",
              "      <td>3054.149902</td>\n",
              "      <td>1185.349976</td>\n",
              "      <td>742.200012</td>\n",
              "      <td>3246.600098</td>\n",
              "      <td>236.649994</td>\n",
              "      <td>...</td>\n",
              "      <td>5600666</td>\n",
              "      <td>11227304</td>\n",
              "      <td>2989089</td>\n",
              "      <td>13005622</td>\n",
              "      <td>8546854</td>\n",
              "      <td>4451381</td>\n",
              "      <td>10223104</td>\n",
              "      <td>11319387</td>\n",
              "      <td>2990265</td>\n",
              "      <td>19063559</td>\n",
              "    </tr>\n",
              "    <tr>\n",
              "      <th>2025-04-11</th>\n",
              "      <td>1756.599976</td>\n",
              "      <td>1806.750000</td>\n",
              "      <td>2366.149902</td>\n",
              "      <td>1311.650024</td>\n",
              "      <td>1409.449951</td>\n",
              "      <td>3115.949951</td>\n",
              "      <td>1218.949951</td>\n",
              "      <td>753.849976</td>\n",
              "      <td>3231.500000</td>\n",
              "      <td>239.750000</td>\n",
              "      <td>...</td>\n",
              "      <td>8340002</td>\n",
              "      <td>16387883</td>\n",
              "      <td>3836083</td>\n",
              "      <td>13064247</td>\n",
              "      <td>12567440</td>\n",
              "      <td>3979116</td>\n",
              "      <td>11224242</td>\n",
              "      <td>9360327</td>\n",
              "      <td>7108961</td>\n",
              "      <td>11205821</td>\n",
              "    </tr>\n",
              "    <tr>\n",
              "      <th>2025-04-15</th>\n",
              "      <td>1798.800049</td>\n",
              "      <td>1864.900024</td>\n",
              "      <td>2361.500000</td>\n",
              "      <td>1350.199951</td>\n",
              "      <td>1426.000000</td>\n",
              "      <td>3257.600098</td>\n",
              "      <td>1240.099976</td>\n",
              "      <td>763.500000</td>\n",
              "      <td>3248.199951</td>\n",
              "      <td>244.000000</td>\n",
              "      <td>...</td>\n",
              "      <td>10313411</td>\n",
              "      <td>24649172</td>\n",
              "      <td>3042779</td>\n",
              "      <td>15202603</td>\n",
              "      <td>10178530</td>\n",
              "      <td>2161492</td>\n",
              "      <td>13378535</td>\n",
              "      <td>7859090</td>\n",
              "      <td>3512160</td>\n",
              "      <td>10694621</td>\n",
              "    </tr>\n",
              "    <tr>\n",
              "      <th>2025-04-16</th>\n",
              "      <td>1822.599976</td>\n",
              "      <td>1878.000000</td>\n",
              "      <td>2366.600098</td>\n",
              "      <td>1356.400024</td>\n",
              "      <td>1413.099976</td>\n",
              "      <td>3227.699951</td>\n",
              "      <td>1239.300049</td>\n",
              "      <td>771.750000</td>\n",
              "      <td>3273.800049</td>\n",
              "      <td>247.649994</td>\n",
              "      <td>...</td>\n",
              "      <td>6180958</td>\n",
              "      <td>9568410</td>\n",
              "      <td>1131979</td>\n",
              "      <td>14039073</td>\n",
              "      <td>12022740</td>\n",
              "      <td>1578260</td>\n",
              "      <td>8248464</td>\n",
              "      <td>12536694</td>\n",
              "      <td>2384391</td>\n",
              "      <td>16203319</td>\n",
              "    </tr>\n",
              "    <tr>\n",
              "      <th>2025-04-17</th>\n",
              "      <td>1889.099976</td>\n",
              "      <td>1906.699951</td>\n",
              "      <td>2375.000000</td>\n",
              "      <td>1406.699951</td>\n",
              "      <td>1419.500000</td>\n",
              "      <td>3247.300049</td>\n",
              "      <td>1274.500000</td>\n",
              "      <td>797.450012</td>\n",
              "      <td>3298.899902</td>\n",
              "      <td>236.899994</td>\n",
              "      <td>...</td>\n",
              "      <td>10894325</td>\n",
              "      <td>17851542</td>\n",
              "      <td>1962402</td>\n",
              "      <td>17490424</td>\n",
              "      <td>14264227</td>\n",
              "      <td>3209331</td>\n",
              "      <td>15398401</td>\n",
              "      <td>27034818</td>\n",
              "      <td>2932346</td>\n",
              "      <td>54875421</td>\n",
              "    </tr>\n",
              "  </tbody>\n",
              "</table>\n",
              "<p>2784 rows × 50 columns</p>\n",
              "</div>"
            ],
            "text/plain": [
              "Price              Close                                                       \\\n",
              "Ticker     BHARTIARTL.NS  HDFCBANK.NS HINDUNILVR.NS ICICIBANK.NS      INFY.NS   \n",
              "Date                                                                            \n",
              "2014-01-01    286.472473   305.065735    480.623138   175.985123   326.585999   \n",
              "2014-01-02    278.796448   301.327759    472.267731   172.441986   327.767883   \n",
              "2014-01-03    279.347809   304.125458    474.450989   171.031204   335.734802   \n",
              "2014-01-06    279.347809   303.483459    473.191376   166.862793   331.285156   \n",
              "2014-01-07    281.341003   304.721710    469.370575   168.337723   325.564240   \n",
              "...                  ...          ...           ...          ...          ...   \n",
              "2025-04-09   1715.550049  1765.000000   2350.000000  1300.800049  1403.699951   \n",
              "2025-04-11   1756.599976  1806.750000   2366.149902  1311.650024  1409.449951   \n",
              "2025-04-15   1798.800049  1864.900024   2361.500000  1350.199951  1426.000000   \n",
              "2025-04-16   1822.599976  1878.000000   2366.600098  1356.400024  1413.099976   \n",
              "2025-04-17   1889.099976  1906.699951   2375.000000  1406.699951  1419.500000   \n",
              "\n",
              "Price                                                                      \\\n",
              "Ticker            LT.NS  RELIANCE.NS     SBIN.NS       TCS.NS    WIPRO.NS   \n",
              "Date                                                                        \n",
              "2014-01-01   602.980042   191.839493  158.148209   850.948242   97.348900   \n",
              "2014-01-02   584.640503   188.860901  156.136658   856.362671   97.392929   \n",
              "2014-01-03   571.097229   186.540604  154.080368   878.177063   98.035812   \n",
              "2014-01-06   570.222534   184.533279  151.257965   885.053040   98.282402   \n",
              "2014-01-07   575.301453   181.759720  148.861191   871.834167   96.908562   \n",
              "...                 ...          ...         ...          ...         ...   \n",
              "2025-04-09  3054.149902  1185.349976  742.200012  3246.600098  236.649994   \n",
              "2025-04-11  3115.949951  1218.949951  753.849976  3231.500000  239.750000   \n",
              "2025-04-15  3257.600098  1240.099976  763.500000  3248.199951  244.000000   \n",
              "2025-04-16  3227.699951  1239.300049  771.750000  3273.800049  247.649994   \n",
              "2025-04-17  3247.300049  1274.500000  797.450012  3298.899902  236.899994   \n",
              "\n",
              "Price       ...        Volume                                         \\\n",
              "Ticker      ... BHARTIARTL.NS HDFCBANK.NS HINDUNILVR.NS ICICIBANK.NS   \n",
              "Date        ...                                                        \n",
              "2014-01-01  ...       1883623     2246218        251204      3102869   \n",
              "2014-01-02  ...       5276461     3614496        531660     11321513   \n",
              "2014-01-03  ...       4701341     3256592       1018173     15567502   \n",
              "2014-01-06  ...       2704888     2981710        603727     14802265   \n",
              "2014-01-07  ...       4110547     3948460        605461     18566515   \n",
              "...         ...           ...         ...           ...          ...   \n",
              "2025-04-09  ...       5600666    11227304       2989089     13005622   \n",
              "2025-04-11  ...       8340002    16387883       3836083     13064247   \n",
              "2025-04-15  ...      10313411    24649172       3042779     15202603   \n",
              "2025-04-16  ...       6180958     9568410       1131979     14039073   \n",
              "2025-04-17  ...      10894325    17851542       1962402     17490424   \n",
              "\n",
              "Price                                                                   \n",
              "Ticker       INFY.NS    LT.NS RELIANCE.NS   SBIN.NS   TCS.NS  WIPRO.NS  \n",
              "Date                                                                    \n",
              "2014-01-01   1478688   694318     5849398   5904780   529952   2362703  \n",
              "2014-01-02   4404744  2322501     6023632  19451900  1726948   4882590  \n",
              "2014-01-03  10046344  3701602    12833897  13759590  2618174   5907534  \n",
              "2014-01-06  11098328  2579617    13315857  13907830  2311810   9896413  \n",
              "2014-01-07   7713688  2833413    17311470  17352910  2897486   6572222  \n",
              "...              ...      ...         ...       ...      ...       ...  \n",
              "2025-04-09   8546854  4451381    10223104  11319387  2990265  19063559  \n",
              "2025-04-11  12567440  3979116    11224242   9360327  7108961  11205821  \n",
              "2025-04-15  10178530  2161492    13378535   7859090  3512160  10694621  \n",
              "2025-04-16  12022740  1578260     8248464  12536694  2384391  16203319  \n",
              "2025-04-17  14264227  3209331    15398401  27034818  2932346  54875421  \n",
              "\n",
              "[2784 rows x 50 columns]"
            ]
          },
          "execution_count": 185,
          "metadata": {},
          "output_type": "execute_result"
        }
      ],
      "source": [
        "data"
      ]
    },
    {
      "cell_type": "code",
      "execution_count": 186,
      "metadata": {
        "colab": {
          "base_uri": "https://localhost:8080/"
        },
        "id": "qgSRQ1vZFOD_",
        "outputId": "b856dfd6-42ab-4e24-b77b-e81b9e404f16"
      },
      "outputs": [
        {
          "name": "stdout",
          "output_type": "stream",
          "text": [
            "<class 'pandas.core.frame.DataFrame'>\n",
            "DatetimeIndex: 2784 entries, 2014-01-01 to 2025-04-17\n",
            "Data columns (total 50 columns):\n",
            " #   Column                   Non-Null Count  Dtype  \n",
            "---  ------                   --------------  -----  \n",
            " 0   (Close, BHARTIARTL.NS)   2784 non-null   float64\n",
            " 1   (Close, HDFCBANK.NS)     2784 non-null   float64\n",
            " 2   (Close, HINDUNILVR.NS)   2784 non-null   float64\n",
            " 3   (Close, ICICIBANK.NS)    2784 non-null   float64\n",
            " 4   (Close, INFY.NS)         2784 non-null   float64\n",
            " 5   (Close, LT.NS)           2784 non-null   float64\n",
            " 6   (Close, RELIANCE.NS)     2784 non-null   float64\n",
            " 7   (Close, SBIN.NS)         2784 non-null   float64\n",
            " 8   (Close, TCS.NS)          2784 non-null   float64\n",
            " 9   (Close, WIPRO.NS)        2784 non-null   float64\n",
            " 10  (High, BHARTIARTL.NS)    2784 non-null   float64\n",
            " 11  (High, HDFCBANK.NS)      2784 non-null   float64\n",
            " 12  (High, HINDUNILVR.NS)    2784 non-null   float64\n",
            " 13  (High, ICICIBANK.NS)     2784 non-null   float64\n",
            " 14  (High, INFY.NS)          2784 non-null   float64\n",
            " 15  (High, LT.NS)            2784 non-null   float64\n",
            " 16  (High, RELIANCE.NS)      2784 non-null   float64\n",
            " 17  (High, SBIN.NS)          2784 non-null   float64\n",
            " 18  (High, TCS.NS)           2784 non-null   float64\n",
            " 19  (High, WIPRO.NS)         2784 non-null   float64\n",
            " 20  (Low, BHARTIARTL.NS)     2784 non-null   float64\n",
            " 21  (Low, HDFCBANK.NS)       2784 non-null   float64\n",
            " 22  (Low, HINDUNILVR.NS)     2784 non-null   float64\n",
            " 23  (Low, ICICIBANK.NS)      2784 non-null   float64\n",
            " 24  (Low, INFY.NS)           2784 non-null   float64\n",
            " 25  (Low, LT.NS)             2784 non-null   float64\n",
            " 26  (Low, RELIANCE.NS)       2784 non-null   float64\n",
            " 27  (Low, SBIN.NS)           2784 non-null   float64\n",
            " 28  (Low, TCS.NS)            2784 non-null   float64\n",
            " 29  (Low, WIPRO.NS)          2784 non-null   float64\n",
            " 30  (Open, BHARTIARTL.NS)    2784 non-null   float64\n",
            " 31  (Open, HDFCBANK.NS)      2784 non-null   float64\n",
            " 32  (Open, HINDUNILVR.NS)    2784 non-null   float64\n",
            " 33  (Open, ICICIBANK.NS)     2784 non-null   float64\n",
            " 34  (Open, INFY.NS)          2784 non-null   float64\n",
            " 35  (Open, LT.NS)            2784 non-null   float64\n",
            " 36  (Open, RELIANCE.NS)      2784 non-null   float64\n",
            " 37  (Open, SBIN.NS)          2784 non-null   float64\n",
            " 38  (Open, TCS.NS)           2784 non-null   float64\n",
            " 39  (Open, WIPRO.NS)         2784 non-null   float64\n",
            " 40  (Volume, BHARTIARTL.NS)  2784 non-null   int64  \n",
            " 41  (Volume, HDFCBANK.NS)    2784 non-null   int64  \n",
            " 42  (Volume, HINDUNILVR.NS)  2784 non-null   int64  \n",
            " 43  (Volume, ICICIBANK.NS)   2784 non-null   int64  \n",
            " 44  (Volume, INFY.NS)        2784 non-null   int64  \n",
            " 45  (Volume, LT.NS)          2784 non-null   int64  \n",
            " 46  (Volume, RELIANCE.NS)    2784 non-null   int64  \n",
            " 47  (Volume, SBIN.NS)        2784 non-null   int64  \n",
            " 48  (Volume, TCS.NS)         2784 non-null   int64  \n",
            " 49  (Volume, WIPRO.NS)       2784 non-null   int64  \n",
            "dtypes: float64(40), int64(10)\n",
            "memory usage: 1.1 MB\n"
          ]
        }
      ],
      "source": [
        "data.info()"
      ]
    },
    {
      "cell_type": "code",
      "execution_count": 187,
      "metadata": {
        "colab": {
          "base_uri": "https://localhost:8080/"
        },
        "id": "kY6KRCkpJUKQ",
        "outputId": "e0b33399-8685-4436-b9ca-fd2abe98620a"
      },
      "outputs": [
        {
          "data": {
            "text/plain": [
              "DatetimeIndex(['2014-01-01', '2014-01-02', '2014-01-03', '2014-01-06',\n",
              "               '2014-01-07', '2014-01-08', '2014-01-09', '2014-01-10',\n",
              "               '2014-01-13', '2014-01-14',\n",
              "               ...\n",
              "               '2025-04-02', '2025-04-03', '2025-04-04', '2025-04-07',\n",
              "               '2025-04-08', '2025-04-09', '2025-04-11', '2025-04-15',\n",
              "               '2025-04-16', '2025-04-17'],\n",
              "              dtype='datetime64[ns]', name='Date', length=2784, freq=None)"
            ]
          },
          "execution_count": 187,
          "metadata": {},
          "output_type": "execute_result"
        }
      ],
      "source": [
        "data.index"
      ]
    },
    {
      "cell_type": "code",
      "execution_count": 188,
      "metadata": {
        "colab": {
          "base_uri": "https://localhost:8080/"
        },
        "id": "VA8ZZYfXJtGr",
        "outputId": "39fc795a-5500-4e0f-839d-ac5d29e6343a"
      },
      "outputs": [
        {
          "name": "stdout",
          "output_type": "stream",
          "text": [
            "<class 'pandas.core.frame.DataFrame'>\n",
            "DatetimeIndex: 2784 entries, 2014-01-01 to 2025-04-17\n",
            "Data columns (total 50 columns):\n",
            " #   Column                   Non-Null Count  Dtype  \n",
            "---  ------                   --------------  -----  \n",
            " 0   (Close, BHARTIARTL.NS)   2784 non-null   float64\n",
            " 1   (Close, HDFCBANK.NS)     2784 non-null   float64\n",
            " 2   (Close, HINDUNILVR.NS)   2784 non-null   float64\n",
            " 3   (Close, ICICIBANK.NS)    2784 non-null   float64\n",
            " 4   (Close, INFY.NS)         2784 non-null   float64\n",
            " 5   (Close, LT.NS)           2784 non-null   float64\n",
            " 6   (Close, RELIANCE.NS)     2784 non-null   float64\n",
            " 7   (Close, SBIN.NS)         2784 non-null   float64\n",
            " 8   (Close, TCS.NS)          2784 non-null   float64\n",
            " 9   (Close, WIPRO.NS)        2784 non-null   float64\n",
            " 10  (High, BHARTIARTL.NS)    2784 non-null   float64\n",
            " 11  (High, HDFCBANK.NS)      2784 non-null   float64\n",
            " 12  (High, HINDUNILVR.NS)    2784 non-null   float64\n",
            " 13  (High, ICICIBANK.NS)     2784 non-null   float64\n",
            " 14  (High, INFY.NS)          2784 non-null   float64\n",
            " 15  (High, LT.NS)            2784 non-null   float64\n",
            " 16  (High, RELIANCE.NS)      2784 non-null   float64\n",
            " 17  (High, SBIN.NS)          2784 non-null   float64\n",
            " 18  (High, TCS.NS)           2784 non-null   float64\n",
            " 19  (High, WIPRO.NS)         2784 non-null   float64\n",
            " 20  (Low, BHARTIARTL.NS)     2784 non-null   float64\n",
            " 21  (Low, HDFCBANK.NS)       2784 non-null   float64\n",
            " 22  (Low, HINDUNILVR.NS)     2784 non-null   float64\n",
            " 23  (Low, ICICIBANK.NS)      2784 non-null   float64\n",
            " 24  (Low, INFY.NS)           2784 non-null   float64\n",
            " 25  (Low, LT.NS)             2784 non-null   float64\n",
            " 26  (Low, RELIANCE.NS)       2784 non-null   float64\n",
            " 27  (Low, SBIN.NS)           2784 non-null   float64\n",
            " 28  (Low, TCS.NS)            2784 non-null   float64\n",
            " 29  (Low, WIPRO.NS)          2784 non-null   float64\n",
            " 30  (Open, BHARTIARTL.NS)    2784 non-null   float64\n",
            " 31  (Open, HDFCBANK.NS)      2784 non-null   float64\n",
            " 32  (Open, HINDUNILVR.NS)    2784 non-null   float64\n",
            " 33  (Open, ICICIBANK.NS)     2784 non-null   float64\n",
            " 34  (Open, INFY.NS)          2784 non-null   float64\n",
            " 35  (Open, LT.NS)            2784 non-null   float64\n",
            " 36  (Open, RELIANCE.NS)      2784 non-null   float64\n",
            " 37  (Open, SBIN.NS)          2784 non-null   float64\n",
            " 38  (Open, TCS.NS)           2784 non-null   float64\n",
            " 39  (Open, WIPRO.NS)         2784 non-null   float64\n",
            " 40  (Volume, BHARTIARTL.NS)  2784 non-null   int64  \n",
            " 41  (Volume, HDFCBANK.NS)    2784 non-null   int64  \n",
            " 42  (Volume, HINDUNILVR.NS)  2784 non-null   int64  \n",
            " 43  (Volume, ICICIBANK.NS)   2784 non-null   int64  \n",
            " 44  (Volume, INFY.NS)        2784 non-null   int64  \n",
            " 45  (Volume, LT.NS)          2784 non-null   int64  \n",
            " 46  (Volume, RELIANCE.NS)    2784 non-null   int64  \n",
            " 47  (Volume, SBIN.NS)        2784 non-null   int64  \n",
            " 48  (Volume, TCS.NS)         2784 non-null   int64  \n",
            " 49  (Volume, WIPRO.NS)       2784 non-null   int64  \n",
            "dtypes: float64(40), int64(10)\n",
            "memory usage: 1.1 MB\n"
          ]
        }
      ],
      "source": [
        "data.info()"
      ]
    },
    {
      "cell_type": "code",
      "execution_count": 189,
      "metadata": {
        "id": "zr_1dkcGLEaw"
      },
      "outputs": [],
      "source": [
        "df_hdfc = data.xs('HDFCBANK.NS', axis=1, level='Ticker')"
      ]
    },
    {
      "cell_type": "code",
      "execution_count": 190,
      "metadata": {
        "colab": {
          "base_uri": "https://localhost:8080/",
          "height": 455
        },
        "id": "Qp4gi1XZMCYr",
        "outputId": "254bb4a8-b739-4cba-ea38-5dd6f9916063"
      },
      "outputs": [
        {
          "data": {
            "text/html": [
              "<div>\n",
              "<style scoped>\n",
              "    .dataframe tbody tr th:only-of-type {\n",
              "        vertical-align: middle;\n",
              "    }\n",
              "\n",
              "    .dataframe tbody tr th {\n",
              "        vertical-align: top;\n",
              "    }\n",
              "\n",
              "    .dataframe thead th {\n",
              "        text-align: right;\n",
              "    }\n",
              "</style>\n",
              "<table border=\"1\" class=\"dataframe\">\n",
              "  <thead>\n",
              "    <tr style=\"text-align: right;\">\n",
              "      <th>Price</th>\n",
              "      <th>Close</th>\n",
              "      <th>High</th>\n",
              "      <th>Low</th>\n",
              "      <th>Open</th>\n",
              "      <th>Volume</th>\n",
              "    </tr>\n",
              "    <tr>\n",
              "      <th>Date</th>\n",
              "      <th></th>\n",
              "      <th></th>\n",
              "      <th></th>\n",
              "      <th></th>\n",
              "      <th></th>\n",
              "    </tr>\n",
              "  </thead>\n",
              "  <tbody>\n",
              "    <tr>\n",
              "      <th>2014-01-01</th>\n",
              "      <td>305.065735</td>\n",
              "      <td>307.198403</td>\n",
              "      <td>304.079643</td>\n",
              "      <td>306.372853</td>\n",
              "      <td>2246218</td>\n",
              "    </tr>\n",
              "    <tr>\n",
              "      <th>2014-01-02</th>\n",
              "      <td>301.327759</td>\n",
              "      <td>309.468653</td>\n",
              "      <td>299.745438</td>\n",
              "      <td>304.996894</td>\n",
              "      <td>3614496</td>\n",
              "    </tr>\n",
              "    <tr>\n",
              "      <th>2014-01-03</th>\n",
              "      <td>304.125458</td>\n",
              "      <td>305.455531</td>\n",
              "      <td>298.117260</td>\n",
              "      <td>299.034543</td>\n",
              "      <td>3256592</td>\n",
              "    </tr>\n",
              "    <tr>\n",
              "      <th>2014-01-06</th>\n",
              "      <td>303.483459</td>\n",
              "      <td>304.079689</td>\n",
              "      <td>301.327836</td>\n",
              "      <td>304.079689</td>\n",
              "      <td>2981710</td>\n",
              "    </tr>\n",
              "    <tr>\n",
              "      <th>2014-01-07</th>\n",
              "      <td>304.721710</td>\n",
              "      <td>307.725809</td>\n",
              "      <td>299.630768</td>\n",
              "      <td>305.960021</td>\n",
              "      <td>3948460</td>\n",
              "    </tr>\n",
              "    <tr>\n",
              "      <th>...</th>\n",
              "      <td>...</td>\n",
              "      <td>...</td>\n",
              "      <td>...</td>\n",
              "      <td>...</td>\n",
              "      <td>...</td>\n",
              "    </tr>\n",
              "    <tr>\n",
              "      <th>2025-04-09</th>\n",
              "      <td>1765.000000</td>\n",
              "      <td>1775.000000</td>\n",
              "      <td>1753.500000</td>\n",
              "      <td>1765.000000</td>\n",
              "      <td>11227304</td>\n",
              "    </tr>\n",
              "    <tr>\n",
              "      <th>2025-04-11</th>\n",
              "      <td>1806.750000</td>\n",
              "      <td>1819.400024</td>\n",
              "      <td>1774.750000</td>\n",
              "      <td>1774.750000</td>\n",
              "      <td>16387883</td>\n",
              "    </tr>\n",
              "    <tr>\n",
              "      <th>2025-04-15</th>\n",
              "      <td>1864.900024</td>\n",
              "      <td>1876.800049</td>\n",
              "      <td>1855.000000</td>\n",
              "      <td>1865.000000</td>\n",
              "      <td>24649172</td>\n",
              "    </tr>\n",
              "    <tr>\n",
              "      <th>2025-04-16</th>\n",
              "      <td>1878.000000</td>\n",
              "      <td>1883.800049</td>\n",
              "      <td>1860.500000</td>\n",
              "      <td>1883.800049</td>\n",
              "      <td>9568410</td>\n",
              "    </tr>\n",
              "    <tr>\n",
              "      <th>2025-04-17</th>\n",
              "      <td>1906.699951</td>\n",
              "      <td>1919.699951</td>\n",
              "      <td>1876.699951</td>\n",
              "      <td>1882.000000</td>\n",
              "      <td>17851542</td>\n",
              "    </tr>\n",
              "  </tbody>\n",
              "</table>\n",
              "<p>2784 rows × 5 columns</p>\n",
              "</div>"
            ],
            "text/plain": [
              "Price             Close         High          Low         Open    Volume\n",
              "Date                                                                    \n",
              "2014-01-01   305.065735   307.198403   304.079643   306.372853   2246218\n",
              "2014-01-02   301.327759   309.468653   299.745438   304.996894   3614496\n",
              "2014-01-03   304.125458   305.455531   298.117260   299.034543   3256592\n",
              "2014-01-06   303.483459   304.079689   301.327836   304.079689   2981710\n",
              "2014-01-07   304.721710   307.725809   299.630768   305.960021   3948460\n",
              "...                 ...          ...          ...          ...       ...\n",
              "2025-04-09  1765.000000  1775.000000  1753.500000  1765.000000  11227304\n",
              "2025-04-11  1806.750000  1819.400024  1774.750000  1774.750000  16387883\n",
              "2025-04-15  1864.900024  1876.800049  1855.000000  1865.000000  24649172\n",
              "2025-04-16  1878.000000  1883.800049  1860.500000  1883.800049   9568410\n",
              "2025-04-17  1906.699951  1919.699951  1876.699951  1882.000000  17851542\n",
              "\n",
              "[2784 rows x 5 columns]"
            ]
          },
          "execution_count": 190,
          "metadata": {},
          "output_type": "execute_result"
        }
      ],
      "source": [
        "df_hdfc"
      ]
    },
    {
      "cell_type": "code",
      "execution_count": 191,
      "metadata": {
        "id": "_9ehZ6WrXrs0"
      },
      "outputs": [],
      "source": [
        "df_hdfc = df_hdfc.reset_index()"
      ]
    },
    {
      "cell_type": "code",
      "execution_count": 192,
      "metadata": {
        "colab": {
          "base_uri": "https://localhost:8080/",
          "height": 206
        },
        "id": "u2AePa9-X6Mg",
        "outputId": "fb1be6eb-b037-42bb-8a00-86a47425bf5f"
      },
      "outputs": [
        {
          "data": {
            "text/html": [
              "<div>\n",
              "<style scoped>\n",
              "    .dataframe tbody tr th:only-of-type {\n",
              "        vertical-align: middle;\n",
              "    }\n",
              "\n",
              "    .dataframe tbody tr th {\n",
              "        vertical-align: top;\n",
              "    }\n",
              "\n",
              "    .dataframe thead th {\n",
              "        text-align: right;\n",
              "    }\n",
              "</style>\n",
              "<table border=\"1\" class=\"dataframe\">\n",
              "  <thead>\n",
              "    <tr style=\"text-align: right;\">\n",
              "      <th>Price</th>\n",
              "      <th>Date</th>\n",
              "      <th>Close</th>\n",
              "      <th>High</th>\n",
              "      <th>Low</th>\n",
              "      <th>Open</th>\n",
              "      <th>Volume</th>\n",
              "    </tr>\n",
              "  </thead>\n",
              "  <tbody>\n",
              "    <tr>\n",
              "      <th>0</th>\n",
              "      <td>2014-01-01</td>\n",
              "      <td>305.065735</td>\n",
              "      <td>307.198403</td>\n",
              "      <td>304.079643</td>\n",
              "      <td>306.372853</td>\n",
              "      <td>2246218</td>\n",
              "    </tr>\n",
              "    <tr>\n",
              "      <th>1</th>\n",
              "      <td>2014-01-02</td>\n",
              "      <td>301.327759</td>\n",
              "      <td>309.468653</td>\n",
              "      <td>299.745438</td>\n",
              "      <td>304.996894</td>\n",
              "      <td>3614496</td>\n",
              "    </tr>\n",
              "    <tr>\n",
              "      <th>2</th>\n",
              "      <td>2014-01-03</td>\n",
              "      <td>304.125458</td>\n",
              "      <td>305.455531</td>\n",
              "      <td>298.117260</td>\n",
              "      <td>299.034543</td>\n",
              "      <td>3256592</td>\n",
              "    </tr>\n",
              "    <tr>\n",
              "      <th>3</th>\n",
              "      <td>2014-01-06</td>\n",
              "      <td>303.483459</td>\n",
              "      <td>304.079689</td>\n",
              "      <td>301.327836</td>\n",
              "      <td>304.079689</td>\n",
              "      <td>2981710</td>\n",
              "    </tr>\n",
              "    <tr>\n",
              "      <th>4</th>\n",
              "      <td>2014-01-07</td>\n",
              "      <td>304.721710</td>\n",
              "      <td>307.725809</td>\n",
              "      <td>299.630768</td>\n",
              "      <td>305.960021</td>\n",
              "      <td>3948460</td>\n",
              "    </tr>\n",
              "  </tbody>\n",
              "</table>\n",
              "</div>"
            ],
            "text/plain": [
              "Price       Date       Close        High         Low        Open   Volume\n",
              "0     2014-01-01  305.065735  307.198403  304.079643  306.372853  2246218\n",
              "1     2014-01-02  301.327759  309.468653  299.745438  304.996894  3614496\n",
              "2     2014-01-03  304.125458  305.455531  298.117260  299.034543  3256592\n",
              "3     2014-01-06  303.483459  304.079689  301.327836  304.079689  2981710\n",
              "4     2014-01-07  304.721710  307.725809  299.630768  305.960021  3948460"
            ]
          },
          "execution_count": 192,
          "metadata": {},
          "output_type": "execute_result"
        }
      ],
      "source": [
        "df_hdfc.head()"
      ]
    },
    {
      "cell_type": "code",
      "execution_count": 193,
      "metadata": {
        "id": "IfkAyIh-MDD9"
      },
      "outputs": [],
      "source": [
        "df_hdfc.columns.name=None"
      ]
    },
    {
      "cell_type": "code",
      "execution_count": 194,
      "metadata": {
        "colab": {
          "base_uri": "https://localhost:8080/",
          "height": 206
        },
        "id": "u3PiAPCyMwLI",
        "outputId": "44b527ab-2ae7-4204-8448-0b81894a39c9"
      },
      "outputs": [
        {
          "data": {
            "text/html": [
              "<div>\n",
              "<style scoped>\n",
              "    .dataframe tbody tr th:only-of-type {\n",
              "        vertical-align: middle;\n",
              "    }\n",
              "\n",
              "    .dataframe tbody tr th {\n",
              "        vertical-align: top;\n",
              "    }\n",
              "\n",
              "    .dataframe thead th {\n",
              "        text-align: right;\n",
              "    }\n",
              "</style>\n",
              "<table border=\"1\" class=\"dataframe\">\n",
              "  <thead>\n",
              "    <tr style=\"text-align: right;\">\n",
              "      <th></th>\n",
              "      <th>Date</th>\n",
              "      <th>Close</th>\n",
              "      <th>High</th>\n",
              "      <th>Low</th>\n",
              "      <th>Open</th>\n",
              "      <th>Volume</th>\n",
              "    </tr>\n",
              "  </thead>\n",
              "  <tbody>\n",
              "    <tr>\n",
              "      <th>0</th>\n",
              "      <td>2014-01-01</td>\n",
              "      <td>305.065735</td>\n",
              "      <td>307.198403</td>\n",
              "      <td>304.079643</td>\n",
              "      <td>306.372853</td>\n",
              "      <td>2246218</td>\n",
              "    </tr>\n",
              "    <tr>\n",
              "      <th>1</th>\n",
              "      <td>2014-01-02</td>\n",
              "      <td>301.327759</td>\n",
              "      <td>309.468653</td>\n",
              "      <td>299.745438</td>\n",
              "      <td>304.996894</td>\n",
              "      <td>3614496</td>\n",
              "    </tr>\n",
              "    <tr>\n",
              "      <th>2</th>\n",
              "      <td>2014-01-03</td>\n",
              "      <td>304.125458</td>\n",
              "      <td>305.455531</td>\n",
              "      <td>298.117260</td>\n",
              "      <td>299.034543</td>\n",
              "      <td>3256592</td>\n",
              "    </tr>\n",
              "    <tr>\n",
              "      <th>3</th>\n",
              "      <td>2014-01-06</td>\n",
              "      <td>303.483459</td>\n",
              "      <td>304.079689</td>\n",
              "      <td>301.327836</td>\n",
              "      <td>304.079689</td>\n",
              "      <td>2981710</td>\n",
              "    </tr>\n",
              "    <tr>\n",
              "      <th>4</th>\n",
              "      <td>2014-01-07</td>\n",
              "      <td>304.721710</td>\n",
              "      <td>307.725809</td>\n",
              "      <td>299.630768</td>\n",
              "      <td>305.960021</td>\n",
              "      <td>3948460</td>\n",
              "    </tr>\n",
              "  </tbody>\n",
              "</table>\n",
              "</div>"
            ],
            "text/plain": [
              "        Date       Close        High         Low        Open   Volume\n",
              "0 2014-01-01  305.065735  307.198403  304.079643  306.372853  2246218\n",
              "1 2014-01-02  301.327759  309.468653  299.745438  304.996894  3614496\n",
              "2 2014-01-03  304.125458  305.455531  298.117260  299.034543  3256592\n",
              "3 2014-01-06  303.483459  304.079689  301.327836  304.079689  2981710\n",
              "4 2014-01-07  304.721710  307.725809  299.630768  305.960021  3948460"
            ]
          },
          "execution_count": 194,
          "metadata": {},
          "output_type": "execute_result"
        }
      ],
      "source": [
        "df_hdfc.head()"
      ]
    },
    {
      "cell_type": "code",
      "execution_count": 195,
      "metadata": {
        "colab": {
          "base_uri": "https://localhost:8080/"
        },
        "id": "OI9yjqs3M5Yx",
        "outputId": "258eeea4-ba89-4186-fa6b-fe9499d0e2b8"
      },
      "outputs": [
        {
          "data": {
            "text/plain": [
              "Index(['Date', 'Close', 'High', 'Low', 'Open', 'Volume'], dtype='object')"
            ]
          },
          "execution_count": 195,
          "metadata": {},
          "output_type": "execute_result"
        }
      ],
      "source": [
        "df_hdfc.columns"
      ]
    },
    {
      "cell_type": "code",
      "execution_count": 196,
      "metadata": {
        "colab": {
          "base_uri": "https://localhost:8080/"
        },
        "id": "DT7PPrh2M70Z",
        "outputId": "2ceeb5be-2830-400e-8ddf-94a5ac44f587"
      },
      "outputs": [
        {
          "name": "stdout",
          "output_type": "stream",
          "text": [
            "<class 'pandas.core.frame.DataFrame'>\n",
            "RangeIndex: 2784 entries, 0 to 2783\n",
            "Data columns (total 6 columns):\n",
            " #   Column  Non-Null Count  Dtype         \n",
            "---  ------  --------------  -----         \n",
            " 0   Date    2784 non-null   datetime64[ns]\n",
            " 1   Close   2784 non-null   float64       \n",
            " 2   High    2784 non-null   float64       \n",
            " 3   Low     2784 non-null   float64       \n",
            " 4   Open    2784 non-null   float64       \n",
            " 5   Volume  2784 non-null   int64         \n",
            "dtypes: datetime64[ns](1), float64(4), int64(1)\n",
            "memory usage: 130.6 KB\n"
          ]
        }
      ],
      "source": [
        "df_hdfc.info()"
      ]
    },
    {
      "cell_type": "code",
      "execution_count": 197,
      "metadata": {
        "id": "OSn1O-kwaGtF"
      },
      "outputs": [],
      "source": [
        "companies_data = {company: None for company in tickers}"
      ]
    },
    {
      "cell_type": "code",
      "execution_count": 198,
      "metadata": {
        "colab": {
          "base_uri": "https://localhost:8080/"
        },
        "id": "7zvkyXl-cHmB",
        "outputId": "ba48eefa-81fe-4f5e-af78-b792a037c269"
      },
      "outputs": [
        {
          "data": {
            "text/plain": [
              "{'RELIANCE.NS': None,\n",
              " 'TCS.NS': None,\n",
              " 'INFY.NS': None,\n",
              " 'HDFCBANK.NS': None,\n",
              " 'ICICIBANK.NS': None,\n",
              " 'SBIN.NS': None,\n",
              " 'HINDUNILVR.NS': None,\n",
              " 'BHARTIARTL.NS': None,\n",
              " 'LT.NS': None,\n",
              " 'WIPRO.NS': None}"
            ]
          },
          "execution_count": 198,
          "metadata": {},
          "output_type": "execute_result"
        }
      ],
      "source": [
        "companies_data"
      ]
    },
    {
      "cell_type": "code",
      "execution_count": 199,
      "metadata": {
        "id": "DffnRqe9cIQW"
      },
      "outputs": [],
      "source": [
        "def get_company_data(tickers, data):\n",
        "  for company in tickers:\n",
        "    companies_data[company] = data.xs(company, axis=1, level='Ticker')\n",
        "    companies_data[company] = companies_data[company].reset_index()\n",
        "    companies_data[company].columns.name=None\n",
        "  return\n",
        "\n",
        "\n",
        "get_company_data(tickers, data)"
      ]
    },
    {
      "cell_type": "code",
      "execution_count": 200,
      "metadata": {
        "colab": {
          "base_uri": "https://localhost:8080/",
          "height": 423
        },
        "id": "uepzUYaTc_16",
        "outputId": "b1f20f05-6aff-44b5-d4f6-f2a14ae236db"
      },
      "outputs": [
        {
          "data": {
            "text/html": [
              "<div>\n",
              "<style scoped>\n",
              "    .dataframe tbody tr th:only-of-type {\n",
              "        vertical-align: middle;\n",
              "    }\n",
              "\n",
              "    .dataframe tbody tr th {\n",
              "        vertical-align: top;\n",
              "    }\n",
              "\n",
              "    .dataframe thead th {\n",
              "        text-align: right;\n",
              "    }\n",
              "</style>\n",
              "<table border=\"1\" class=\"dataframe\">\n",
              "  <thead>\n",
              "    <tr style=\"text-align: right;\">\n",
              "      <th></th>\n",
              "      <th>Date</th>\n",
              "      <th>Close</th>\n",
              "      <th>High</th>\n",
              "      <th>Low</th>\n",
              "      <th>Open</th>\n",
              "      <th>Volume</th>\n",
              "    </tr>\n",
              "  </thead>\n",
              "  <tbody>\n",
              "    <tr>\n",
              "      <th>0</th>\n",
              "      <td>2014-01-01</td>\n",
              "      <td>305.065735</td>\n",
              "      <td>307.198403</td>\n",
              "      <td>304.079643</td>\n",
              "      <td>306.372853</td>\n",
              "      <td>2246218</td>\n",
              "    </tr>\n",
              "    <tr>\n",
              "      <th>1</th>\n",
              "      <td>2014-01-02</td>\n",
              "      <td>301.327759</td>\n",
              "      <td>309.468653</td>\n",
              "      <td>299.745438</td>\n",
              "      <td>304.996894</td>\n",
              "      <td>3614496</td>\n",
              "    </tr>\n",
              "    <tr>\n",
              "      <th>2</th>\n",
              "      <td>2014-01-03</td>\n",
              "      <td>304.125458</td>\n",
              "      <td>305.455531</td>\n",
              "      <td>298.117260</td>\n",
              "      <td>299.034543</td>\n",
              "      <td>3256592</td>\n",
              "    </tr>\n",
              "    <tr>\n",
              "      <th>3</th>\n",
              "      <td>2014-01-06</td>\n",
              "      <td>303.483459</td>\n",
              "      <td>304.079689</td>\n",
              "      <td>301.327836</td>\n",
              "      <td>304.079689</td>\n",
              "      <td>2981710</td>\n",
              "    </tr>\n",
              "    <tr>\n",
              "      <th>4</th>\n",
              "      <td>2014-01-07</td>\n",
              "      <td>304.721710</td>\n",
              "      <td>307.725809</td>\n",
              "      <td>299.630768</td>\n",
              "      <td>305.960021</td>\n",
              "      <td>3948460</td>\n",
              "    </tr>\n",
              "    <tr>\n",
              "      <th>...</th>\n",
              "      <td>...</td>\n",
              "      <td>...</td>\n",
              "      <td>...</td>\n",
              "      <td>...</td>\n",
              "      <td>...</td>\n",
              "      <td>...</td>\n",
              "    </tr>\n",
              "    <tr>\n",
              "      <th>2779</th>\n",
              "      <td>2025-04-09</td>\n",
              "      <td>1765.000000</td>\n",
              "      <td>1775.000000</td>\n",
              "      <td>1753.500000</td>\n",
              "      <td>1765.000000</td>\n",
              "      <td>11227304</td>\n",
              "    </tr>\n",
              "    <tr>\n",
              "      <th>2780</th>\n",
              "      <td>2025-04-11</td>\n",
              "      <td>1806.750000</td>\n",
              "      <td>1819.400024</td>\n",
              "      <td>1774.750000</td>\n",
              "      <td>1774.750000</td>\n",
              "      <td>16387883</td>\n",
              "    </tr>\n",
              "    <tr>\n",
              "      <th>2781</th>\n",
              "      <td>2025-04-15</td>\n",
              "      <td>1864.900024</td>\n",
              "      <td>1876.800049</td>\n",
              "      <td>1855.000000</td>\n",
              "      <td>1865.000000</td>\n",
              "      <td>24649172</td>\n",
              "    </tr>\n",
              "    <tr>\n",
              "      <th>2782</th>\n",
              "      <td>2025-04-16</td>\n",
              "      <td>1878.000000</td>\n",
              "      <td>1883.800049</td>\n",
              "      <td>1860.500000</td>\n",
              "      <td>1883.800049</td>\n",
              "      <td>9568410</td>\n",
              "    </tr>\n",
              "    <tr>\n",
              "      <th>2783</th>\n",
              "      <td>2025-04-17</td>\n",
              "      <td>1906.699951</td>\n",
              "      <td>1919.699951</td>\n",
              "      <td>1876.699951</td>\n",
              "      <td>1882.000000</td>\n",
              "      <td>17851542</td>\n",
              "    </tr>\n",
              "  </tbody>\n",
              "</table>\n",
              "<p>2784 rows × 6 columns</p>\n",
              "</div>"
            ],
            "text/plain": [
              "           Date        Close         High          Low         Open    Volume\n",
              "0    2014-01-01   305.065735   307.198403   304.079643   306.372853   2246218\n",
              "1    2014-01-02   301.327759   309.468653   299.745438   304.996894   3614496\n",
              "2    2014-01-03   304.125458   305.455531   298.117260   299.034543   3256592\n",
              "3    2014-01-06   303.483459   304.079689   301.327836   304.079689   2981710\n",
              "4    2014-01-07   304.721710   307.725809   299.630768   305.960021   3948460\n",
              "...         ...          ...          ...          ...          ...       ...\n",
              "2779 2025-04-09  1765.000000  1775.000000  1753.500000  1765.000000  11227304\n",
              "2780 2025-04-11  1806.750000  1819.400024  1774.750000  1774.750000  16387883\n",
              "2781 2025-04-15  1864.900024  1876.800049  1855.000000  1865.000000  24649172\n",
              "2782 2025-04-16  1878.000000  1883.800049  1860.500000  1883.800049   9568410\n",
              "2783 2025-04-17  1906.699951  1919.699951  1876.699951  1882.000000  17851542\n",
              "\n",
              "[2784 rows x 6 columns]"
            ]
          },
          "execution_count": 200,
          "metadata": {},
          "output_type": "execute_result"
        }
      ],
      "source": [
        "companies_data['HDFCBANK.NS']"
      ]
    },
    {
      "cell_type": "code",
      "execution_count": 201,
      "metadata": {
        "id": "X3S5VzKPlfAG"
      },
      "outputs": [],
      "source": [
        "x = pd.DataFrame()\n",
        "y = pd.DataFrame()\n",
        "for company in tickers:\n",
        "  x = pd.concat([x, companies_data[company][['High', 'Low', 'Open', 'Volume']]], ignore_index=True)\n",
        "  y = pd.concat([y, companies_data[company][['Close']]], ignore_index=True)"
      ]
    },
    {
      "cell_type": "code",
      "execution_count": 202,
      "metadata": {
        "colab": {
          "base_uri": "https://localhost:8080/"
        },
        "id": "xIahF0eBn6Bd",
        "outputId": "a250b0ff-aa5e-4063-e6d4-f5a4c351f6e7"
      },
      "outputs": [
        {
          "data": {
            "text/plain": [
              "(27840, 4)"
            ]
          },
          "execution_count": 202,
          "metadata": {},
          "output_type": "execute_result"
        }
      ],
      "source": [
        "x.shape"
      ]
    },
    {
      "cell_type": "code",
      "execution_count": 203,
      "metadata": {
        "colab": {
          "base_uri": "https://localhost:8080/",
          "height": 423
        },
        "id": "8nbC8-yxn-VU",
        "outputId": "4a7be06b-ab7f-492b-851b-f7667654b177"
      },
      "outputs": [
        {
          "data": {
            "text/html": [
              "<div>\n",
              "<style scoped>\n",
              "    .dataframe tbody tr th:only-of-type {\n",
              "        vertical-align: middle;\n",
              "    }\n",
              "\n",
              "    .dataframe tbody tr th {\n",
              "        vertical-align: top;\n",
              "    }\n",
              "\n",
              "    .dataframe thead th {\n",
              "        text-align: right;\n",
              "    }\n",
              "</style>\n",
              "<table border=\"1\" class=\"dataframe\">\n",
              "  <thead>\n",
              "    <tr style=\"text-align: right;\">\n",
              "      <th></th>\n",
              "      <th>High</th>\n",
              "      <th>Low</th>\n",
              "      <th>Open</th>\n",
              "      <th>Volume</th>\n",
              "    </tr>\n",
              "  </thead>\n",
              "  <tbody>\n",
              "    <tr>\n",
              "      <th>0</th>\n",
              "      <td>193.879190</td>\n",
              "      <td>191.580477</td>\n",
              "      <td>193.706508</td>\n",
              "      <td>5849398</td>\n",
              "    </tr>\n",
              "    <tr>\n",
              "      <th>1</th>\n",
              "      <td>193.393563</td>\n",
              "      <td>187.803281</td>\n",
              "      <td>191.602076</td>\n",
              "      <td>6023632</td>\n",
              "    </tr>\n",
              "    <tr>\n",
              "      <th>2</th>\n",
              "      <td>188.504759</td>\n",
              "      <td>184.544073</td>\n",
              "      <td>188.127033</td>\n",
              "      <td>12833897</td>\n",
              "    </tr>\n",
              "    <tr>\n",
              "      <th>3</th>\n",
              "      <td>186.324766</td>\n",
              "      <td>183.464868</td>\n",
              "      <td>186.076542</td>\n",
              "      <td>13315857</td>\n",
              "    </tr>\n",
              "    <tr>\n",
              "      <th>4</th>\n",
              "      <td>185.612473</td>\n",
              "      <td>181.317244</td>\n",
              "      <td>184.457728</td>\n",
              "      <td>17311470</td>\n",
              "    </tr>\n",
              "    <tr>\n",
              "      <th>...</th>\n",
              "      <td>...</td>\n",
              "      <td>...</td>\n",
              "      <td>...</td>\n",
              "      <td>...</td>\n",
              "    </tr>\n",
              "    <tr>\n",
              "      <th>27835</th>\n",
              "      <td>242.300003</td>\n",
              "      <td>234.000000</td>\n",
              "      <td>240.699997</td>\n",
              "      <td>19063559</td>\n",
              "    </tr>\n",
              "    <tr>\n",
              "      <th>27836</th>\n",
              "      <td>245.000000</td>\n",
              "      <td>238.350006</td>\n",
              "      <td>245.000000</td>\n",
              "      <td>11205821</td>\n",
              "    </tr>\n",
              "    <tr>\n",
              "      <th>27837</th>\n",
              "      <td>245.050003</td>\n",
              "      <td>241.350006</td>\n",
              "      <td>245.050003</td>\n",
              "      <td>10694621</td>\n",
              "    </tr>\n",
              "    <tr>\n",
              "      <th>27838</th>\n",
              "      <td>248.449997</td>\n",
              "      <td>241.199997</td>\n",
              "      <td>244.000000</td>\n",
              "      <td>16203319</td>\n",
              "    </tr>\n",
              "    <tr>\n",
              "      <th>27839</th>\n",
              "      <td>237.800003</td>\n",
              "      <td>232.149994</td>\n",
              "      <td>235.000000</td>\n",
              "      <td>54875421</td>\n",
              "    </tr>\n",
              "  </tbody>\n",
              "</table>\n",
              "<p>27840 rows × 4 columns</p>\n",
              "</div>"
            ],
            "text/plain": [
              "             High         Low        Open    Volume\n",
              "0      193.879190  191.580477  193.706508   5849398\n",
              "1      193.393563  187.803281  191.602076   6023632\n",
              "2      188.504759  184.544073  188.127033  12833897\n",
              "3      186.324766  183.464868  186.076542  13315857\n",
              "4      185.612473  181.317244  184.457728  17311470\n",
              "...           ...         ...         ...       ...\n",
              "27835  242.300003  234.000000  240.699997  19063559\n",
              "27836  245.000000  238.350006  245.000000  11205821\n",
              "27837  245.050003  241.350006  245.050003  10694621\n",
              "27838  248.449997  241.199997  244.000000  16203319\n",
              "27839  237.800003  232.149994  235.000000  54875421\n",
              "\n",
              "[27840 rows x 4 columns]"
            ]
          },
          "execution_count": 203,
          "metadata": {},
          "output_type": "execute_result"
        }
      ],
      "source": [
        "x"
      ]
    },
    {
      "cell_type": "code",
      "execution_count": 204,
      "metadata": {
        "colab": {
          "base_uri": "https://localhost:8080/"
        },
        "id": "PuQ6lnT-pKi1",
        "outputId": "a759f106-015f-45e0-a67f-3336e2362502"
      },
      "outputs": [
        {
          "data": {
            "text/plain": [
              "(27840, 1)"
            ]
          },
          "execution_count": 204,
          "metadata": {},
          "output_type": "execute_result"
        }
      ],
      "source": [
        "y.shape"
      ]
    },
    {
      "cell_type": "code",
      "execution_count": 205,
      "metadata": {
        "colab": {
          "base_uri": "https://localhost:8080/",
          "height": 206
        },
        "id": "1CETAPrAp_lr",
        "outputId": "df642afa-8452-4889-e1e2-58fe00e9f04d"
      },
      "outputs": [
        {
          "data": {
            "text/html": [
              "<div>\n",
              "<style scoped>\n",
              "    .dataframe tbody tr th:only-of-type {\n",
              "        vertical-align: middle;\n",
              "    }\n",
              "\n",
              "    .dataframe tbody tr th {\n",
              "        vertical-align: top;\n",
              "    }\n",
              "\n",
              "    .dataframe thead th {\n",
              "        text-align: right;\n",
              "    }\n",
              "</style>\n",
              "<table border=\"1\" class=\"dataframe\">\n",
              "  <thead>\n",
              "    <tr style=\"text-align: right;\">\n",
              "      <th></th>\n",
              "      <th>Close</th>\n",
              "    </tr>\n",
              "  </thead>\n",
              "  <tbody>\n",
              "    <tr>\n",
              "      <th>0</th>\n",
              "      <td>191.839493</td>\n",
              "    </tr>\n",
              "    <tr>\n",
              "      <th>1</th>\n",
              "      <td>188.860901</td>\n",
              "    </tr>\n",
              "    <tr>\n",
              "      <th>2</th>\n",
              "      <td>186.540604</td>\n",
              "    </tr>\n",
              "    <tr>\n",
              "      <th>3</th>\n",
              "      <td>184.533279</td>\n",
              "    </tr>\n",
              "    <tr>\n",
              "      <th>4</th>\n",
              "      <td>181.759720</td>\n",
              "    </tr>\n",
              "  </tbody>\n",
              "</table>\n",
              "</div>"
            ],
            "text/plain": [
              "        Close\n",
              "0  191.839493\n",
              "1  188.860901\n",
              "2  186.540604\n",
              "3  184.533279\n",
              "4  181.759720"
            ]
          },
          "execution_count": 205,
          "metadata": {},
          "output_type": "execute_result"
        }
      ],
      "source": [
        "y.head()"
      ]
    },
    {
      "cell_type": "code",
      "execution_count": 206,
      "metadata": {
        "colab": {
          "base_uri": "https://localhost:8080/"
        },
        "id": "LctY6BUqqC9J",
        "outputId": "4ac6e3bb-a1f8-4fc1-d6c7-9d47f8778598"
      },
      "outputs": [
        {
          "name": "stdout",
          "output_type": "stream",
          "text": [
            "<class 'pandas.core.frame.DataFrame'>\n"
          ]
        }
      ],
      "source": [
        "print(type(y))"
      ]
    },
    {
      "cell_type": "code",
      "execution_count": 207,
      "metadata": {
        "id": "JrZd8QCqqpZq"
      },
      "outputs": [],
      "source": [
        "y = y['Close']"
      ]
    },
    {
      "cell_type": "code",
      "execution_count": 208,
      "metadata": {
        "colab": {
          "base_uri": "https://localhost:8080/"
        },
        "id": "BiFQQplFqxir",
        "outputId": "11a964c7-7606-4f9a-d0d9-37a9e83f1afe"
      },
      "outputs": [
        {
          "name": "stdout",
          "output_type": "stream",
          "text": [
            "<class 'pandas.core.series.Series'>\n"
          ]
        }
      ],
      "source": [
        "print(type(y))"
      ]
    },
    {
      "cell_type": "code",
      "execution_count": 209,
      "metadata": {
        "id": "iboSk12erZj4"
      },
      "outputs": [],
      "source": [
        "from sklearn.model_selection import train_test_split\n",
        "from sklearn.linear_model import LinearRegression\n",
        "from sklearn.metrics import mean_squared_error, r2_score"
      ]
    },
    {
      "cell_type": "code",
      "execution_count": 210,
      "metadata": {
        "id": "Qv-BTtZRralw"
      },
      "outputs": [],
      "source": [
        "x_train, x_test, y_train, y_test = train_test_split(x, y, test_size=0.2, random_state=42)"
      ]
    },
    {
      "cell_type": "code",
      "execution_count": 211,
      "metadata": {
        "colab": {
          "base_uri": "https://localhost:8080/"
        },
        "id": "VVOqmhOIrjzg",
        "outputId": "70e28b1c-8a8a-417d-baa2-dfd94c299c9d"
      },
      "outputs": [
        {
          "data": {
            "text/plain": [
              "((22272, 4), (22272,), (5568, 4), (5568,))"
            ]
          },
          "execution_count": 211,
          "metadata": {},
          "output_type": "execute_result"
        }
      ],
      "source": [
        "x_train.shape, y_train.shape, x_test.shape, y_test.shape"
      ]
    },
    {
      "cell_type": "code",
      "execution_count": 212,
      "metadata": {
        "id": "qMgn0usxrnWs"
      },
      "outputs": [],
      "source": [
        "model = LinearRegression()"
      ]
    },
    {
      "cell_type": "code",
      "execution_count": 213,
      "metadata": {
        "colab": {
          "base_uri": "https://localhost:8080/",
          "height": 80
        },
        "id": "SuVaCtmNrt-C",
        "outputId": "07b8c713-3c64-4931-c2b9-e59cb5212400"
      },
      "outputs": [
        {
          "data": {
            "text/html": [
              "<style>#sk-container-id-5 {\n",
              "  /* Definition of color scheme common for light and dark mode */\n",
              "  --sklearn-color-text: black;\n",
              "  --sklearn-color-line: gray;\n",
              "  /* Definition of color scheme for unfitted estimators */\n",
              "  --sklearn-color-unfitted-level-0: #fff5e6;\n",
              "  --sklearn-color-unfitted-level-1: #f6e4d2;\n",
              "  --sklearn-color-unfitted-level-2: #ffe0b3;\n",
              "  --sklearn-color-unfitted-level-3: chocolate;\n",
              "  /* Definition of color scheme for fitted estimators */\n",
              "  --sklearn-color-fitted-level-0: #f0f8ff;\n",
              "  --sklearn-color-fitted-level-1: #d4ebff;\n",
              "  --sklearn-color-fitted-level-2: #b3dbfd;\n",
              "  --sklearn-color-fitted-level-3: cornflowerblue;\n",
              "\n",
              "  /* Specific color for light theme */\n",
              "  --sklearn-color-text-on-default-background: var(--sg-text-color, var(--theme-code-foreground, var(--jp-content-font-color1, black)));\n",
              "  --sklearn-color-background: var(--sg-background-color, var(--theme-background, var(--jp-layout-color0, white)));\n",
              "  --sklearn-color-border-box: var(--sg-text-color, var(--theme-code-foreground, var(--jp-content-font-color1, black)));\n",
              "  --sklearn-color-icon: #696969;\n",
              "\n",
              "  @media (prefers-color-scheme: dark) {\n",
              "    /* Redefinition of color scheme for dark theme */\n",
              "    --sklearn-color-text-on-default-background: var(--sg-text-color, var(--theme-code-foreground, var(--jp-content-font-color1, white)));\n",
              "    --sklearn-color-background: var(--sg-background-color, var(--theme-background, var(--jp-layout-color0, #111)));\n",
              "    --sklearn-color-border-box: var(--sg-text-color, var(--theme-code-foreground, var(--jp-content-font-color1, white)));\n",
              "    --sklearn-color-icon: #878787;\n",
              "  }\n",
              "}\n",
              "\n",
              "#sk-container-id-5 {\n",
              "  color: var(--sklearn-color-text);\n",
              "}\n",
              "\n",
              "#sk-container-id-5 pre {\n",
              "  padding: 0;\n",
              "}\n",
              "\n",
              "#sk-container-id-5 input.sk-hidden--visually {\n",
              "  border: 0;\n",
              "  clip: rect(1px 1px 1px 1px);\n",
              "  clip: rect(1px, 1px, 1px, 1px);\n",
              "  height: 1px;\n",
              "  margin: -1px;\n",
              "  overflow: hidden;\n",
              "  padding: 0;\n",
              "  position: absolute;\n",
              "  width: 1px;\n",
              "}\n",
              "\n",
              "#sk-container-id-5 div.sk-dashed-wrapped {\n",
              "  border: 1px dashed var(--sklearn-color-line);\n",
              "  margin: 0 0.4em 0.5em 0.4em;\n",
              "  box-sizing: border-box;\n",
              "  padding-bottom: 0.4em;\n",
              "  background-color: var(--sklearn-color-background);\n",
              "}\n",
              "\n",
              "#sk-container-id-5 div.sk-container {\n",
              "  /* jupyter's `normalize.less` sets `[hidden] { display: none; }`\n",
              "     but bootstrap.min.css set `[hidden] { display: none !important; }`\n",
              "     so we also need the `!important` here to be able to override the\n",
              "     default hidden behavior on the sphinx rendered scikit-learn.org.\n",
              "     See: https://github.com/scikit-learn/scikit-learn/issues/21755 */\n",
              "  display: inline-block !important;\n",
              "  position: relative;\n",
              "}\n",
              "\n",
              "#sk-container-id-5 div.sk-text-repr-fallback {\n",
              "  display: none;\n",
              "}\n",
              "\n",
              "div.sk-parallel-item,\n",
              "div.sk-serial,\n",
              "div.sk-item {\n",
              "  /* draw centered vertical line to link estimators */\n",
              "  background-image: linear-gradient(var(--sklearn-color-text-on-default-background), var(--sklearn-color-text-on-default-background));\n",
              "  background-size: 2px 100%;\n",
              "  background-repeat: no-repeat;\n",
              "  background-position: center center;\n",
              "}\n",
              "\n",
              "/* Parallel-specific style estimator block */\n",
              "\n",
              "#sk-container-id-5 div.sk-parallel-item::after {\n",
              "  content: \"\";\n",
              "  width: 100%;\n",
              "  border-bottom: 2px solid var(--sklearn-color-text-on-default-background);\n",
              "  flex-grow: 1;\n",
              "}\n",
              "\n",
              "#sk-container-id-5 div.sk-parallel {\n",
              "  display: flex;\n",
              "  align-items: stretch;\n",
              "  justify-content: center;\n",
              "  background-color: var(--sklearn-color-background);\n",
              "  position: relative;\n",
              "}\n",
              "\n",
              "#sk-container-id-5 div.sk-parallel-item {\n",
              "  display: flex;\n",
              "  flex-direction: column;\n",
              "}\n",
              "\n",
              "#sk-container-id-5 div.sk-parallel-item:first-child::after {\n",
              "  align-self: flex-end;\n",
              "  width: 50%;\n",
              "}\n",
              "\n",
              "#sk-container-id-5 div.sk-parallel-item:last-child::after {\n",
              "  align-self: flex-start;\n",
              "  width: 50%;\n",
              "}\n",
              "\n",
              "#sk-container-id-5 div.sk-parallel-item:only-child::after {\n",
              "  width: 0;\n",
              "}\n",
              "\n",
              "/* Serial-specific style estimator block */\n",
              "\n",
              "#sk-container-id-5 div.sk-serial {\n",
              "  display: flex;\n",
              "  flex-direction: column;\n",
              "  align-items: center;\n",
              "  background-color: var(--sklearn-color-background);\n",
              "  padding-right: 1em;\n",
              "  padding-left: 1em;\n",
              "}\n",
              "\n",
              "\n",
              "/* Toggleable style: style used for estimator/Pipeline/ColumnTransformer box that is\n",
              "clickable and can be expanded/collapsed.\n",
              "- Pipeline and ColumnTransformer use this feature and define the default style\n",
              "- Estimators will overwrite some part of the style using the `sk-estimator` class\n",
              "*/\n",
              "\n",
              "/* Pipeline and ColumnTransformer style (default) */\n",
              "\n",
              "#sk-container-id-5 div.sk-toggleable {\n",
              "  /* Default theme specific background. It is overwritten whether we have a\n",
              "  specific estimator or a Pipeline/ColumnTransformer */\n",
              "  background-color: var(--sklearn-color-background);\n",
              "}\n",
              "\n",
              "/* Toggleable label */\n",
              "#sk-container-id-5 label.sk-toggleable__label {\n",
              "  cursor: pointer;\n",
              "  display: block;\n",
              "  width: 100%;\n",
              "  margin-bottom: 0;\n",
              "  padding: 0.5em;\n",
              "  box-sizing: border-box;\n",
              "  text-align: center;\n",
              "}\n",
              "\n",
              "#sk-container-id-5 label.sk-toggleable__label-arrow:before {\n",
              "  /* Arrow on the left of the label */\n",
              "  content: \"▸\";\n",
              "  float: left;\n",
              "  margin-right: 0.25em;\n",
              "  color: var(--sklearn-color-icon);\n",
              "}\n",
              "\n",
              "#sk-container-id-5 label.sk-toggleable__label-arrow:hover:before {\n",
              "  color: var(--sklearn-color-text);\n",
              "}\n",
              "\n",
              "/* Toggleable content - dropdown */\n",
              "\n",
              "#sk-container-id-5 div.sk-toggleable__content {\n",
              "  max-height: 0;\n",
              "  max-width: 0;\n",
              "  overflow: hidden;\n",
              "  text-align: left;\n",
              "  /* unfitted */\n",
              "  background-color: var(--sklearn-color-unfitted-level-0);\n",
              "}\n",
              "\n",
              "#sk-container-id-5 div.sk-toggleable__content.fitted {\n",
              "  /* fitted */\n",
              "  background-color: var(--sklearn-color-fitted-level-0);\n",
              "}\n",
              "\n",
              "#sk-container-id-5 div.sk-toggleable__content pre {\n",
              "  margin: 0.2em;\n",
              "  border-radius: 0.25em;\n",
              "  color: var(--sklearn-color-text);\n",
              "  /* unfitted */\n",
              "  background-color: var(--sklearn-color-unfitted-level-0);\n",
              "}\n",
              "\n",
              "#sk-container-id-5 div.sk-toggleable__content.fitted pre {\n",
              "  /* unfitted */\n",
              "  background-color: var(--sklearn-color-fitted-level-0);\n",
              "}\n",
              "\n",
              "#sk-container-id-5 input.sk-toggleable__control:checked~div.sk-toggleable__content {\n",
              "  /* Expand drop-down */\n",
              "  max-height: 200px;\n",
              "  max-width: 100%;\n",
              "  overflow: auto;\n",
              "}\n",
              "\n",
              "#sk-container-id-5 input.sk-toggleable__control:checked~label.sk-toggleable__label-arrow:before {\n",
              "  content: \"▾\";\n",
              "}\n",
              "\n",
              "/* Pipeline/ColumnTransformer-specific style */\n",
              "\n",
              "#sk-container-id-5 div.sk-label input.sk-toggleable__control:checked~label.sk-toggleable__label {\n",
              "  color: var(--sklearn-color-text);\n",
              "  background-color: var(--sklearn-color-unfitted-level-2);\n",
              "}\n",
              "\n",
              "#sk-container-id-5 div.sk-label.fitted input.sk-toggleable__control:checked~label.sk-toggleable__label {\n",
              "  background-color: var(--sklearn-color-fitted-level-2);\n",
              "}\n",
              "\n",
              "/* Estimator-specific style */\n",
              "\n",
              "/* Colorize estimator box */\n",
              "#sk-container-id-5 div.sk-estimator input.sk-toggleable__control:checked~label.sk-toggleable__label {\n",
              "  /* unfitted */\n",
              "  background-color: var(--sklearn-color-unfitted-level-2);\n",
              "}\n",
              "\n",
              "#sk-container-id-5 div.sk-estimator.fitted input.sk-toggleable__control:checked~label.sk-toggleable__label {\n",
              "  /* fitted */\n",
              "  background-color: var(--sklearn-color-fitted-level-2);\n",
              "}\n",
              "\n",
              "#sk-container-id-5 div.sk-label label.sk-toggleable__label,\n",
              "#sk-container-id-5 div.sk-label label {\n",
              "  /* The background is the default theme color */\n",
              "  color: var(--sklearn-color-text-on-default-background);\n",
              "}\n",
              "\n",
              "/* On hover, darken the color of the background */\n",
              "#sk-container-id-5 div.sk-label:hover label.sk-toggleable__label {\n",
              "  color: var(--sklearn-color-text);\n",
              "  background-color: var(--sklearn-color-unfitted-level-2);\n",
              "}\n",
              "\n",
              "/* Label box, darken color on hover, fitted */\n",
              "#sk-container-id-5 div.sk-label.fitted:hover label.sk-toggleable__label.fitted {\n",
              "  color: var(--sklearn-color-text);\n",
              "  background-color: var(--sklearn-color-fitted-level-2);\n",
              "}\n",
              "\n",
              "/* Estimator label */\n",
              "\n",
              "#sk-container-id-5 div.sk-label label {\n",
              "  font-family: monospace;\n",
              "  font-weight: bold;\n",
              "  display: inline-block;\n",
              "  line-height: 1.2em;\n",
              "}\n",
              "\n",
              "#sk-container-id-5 div.sk-label-container {\n",
              "  text-align: center;\n",
              "}\n",
              "\n",
              "/* Estimator-specific */\n",
              "#sk-container-id-5 div.sk-estimator {\n",
              "  font-family: monospace;\n",
              "  border: 1px dotted var(--sklearn-color-border-box);\n",
              "  border-radius: 0.25em;\n",
              "  box-sizing: border-box;\n",
              "  margin-bottom: 0.5em;\n",
              "  /* unfitted */\n",
              "  background-color: var(--sklearn-color-unfitted-level-0);\n",
              "}\n",
              "\n",
              "#sk-container-id-5 div.sk-estimator.fitted {\n",
              "  /* fitted */\n",
              "  background-color: var(--sklearn-color-fitted-level-0);\n",
              "}\n",
              "\n",
              "/* on hover */\n",
              "#sk-container-id-5 div.sk-estimator:hover {\n",
              "  /* unfitted */\n",
              "  background-color: var(--sklearn-color-unfitted-level-2);\n",
              "}\n",
              "\n",
              "#sk-container-id-5 div.sk-estimator.fitted:hover {\n",
              "  /* fitted */\n",
              "  background-color: var(--sklearn-color-fitted-level-2);\n",
              "}\n",
              "\n",
              "/* Specification for estimator info (e.g. \"i\" and \"?\") */\n",
              "\n",
              "/* Common style for \"i\" and \"?\" */\n",
              "\n",
              ".sk-estimator-doc-link,\n",
              "a:link.sk-estimator-doc-link,\n",
              "a:visited.sk-estimator-doc-link {\n",
              "  float: right;\n",
              "  font-size: smaller;\n",
              "  line-height: 1em;\n",
              "  font-family: monospace;\n",
              "  background-color: var(--sklearn-color-background);\n",
              "  border-radius: 1em;\n",
              "  height: 1em;\n",
              "  width: 1em;\n",
              "  text-decoration: none !important;\n",
              "  margin-left: 1ex;\n",
              "  /* unfitted */\n",
              "  border: var(--sklearn-color-unfitted-level-1) 1pt solid;\n",
              "  color: var(--sklearn-color-unfitted-level-1);\n",
              "}\n",
              "\n",
              ".sk-estimator-doc-link.fitted,\n",
              "a:link.sk-estimator-doc-link.fitted,\n",
              "a:visited.sk-estimator-doc-link.fitted {\n",
              "  /* fitted */\n",
              "  border: var(--sklearn-color-fitted-level-1) 1pt solid;\n",
              "  color: var(--sklearn-color-fitted-level-1);\n",
              "}\n",
              "\n",
              "/* On hover */\n",
              "div.sk-estimator:hover .sk-estimator-doc-link:hover,\n",
              ".sk-estimator-doc-link:hover,\n",
              "div.sk-label-container:hover .sk-estimator-doc-link:hover,\n",
              ".sk-estimator-doc-link:hover {\n",
              "  /* unfitted */\n",
              "  background-color: var(--sklearn-color-unfitted-level-3);\n",
              "  color: var(--sklearn-color-background);\n",
              "  text-decoration: none;\n",
              "}\n",
              "\n",
              "div.sk-estimator.fitted:hover .sk-estimator-doc-link.fitted:hover,\n",
              ".sk-estimator-doc-link.fitted:hover,\n",
              "div.sk-label-container:hover .sk-estimator-doc-link.fitted:hover,\n",
              ".sk-estimator-doc-link.fitted:hover {\n",
              "  /* fitted */\n",
              "  background-color: var(--sklearn-color-fitted-level-3);\n",
              "  color: var(--sklearn-color-background);\n",
              "  text-decoration: none;\n",
              "}\n",
              "\n",
              "/* Span, style for the box shown on hovering the info icon */\n",
              ".sk-estimator-doc-link span {\n",
              "  display: none;\n",
              "  z-index: 9999;\n",
              "  position: relative;\n",
              "  font-weight: normal;\n",
              "  right: .2ex;\n",
              "  padding: .5ex;\n",
              "  margin: .5ex;\n",
              "  width: min-content;\n",
              "  min-width: 20ex;\n",
              "  max-width: 50ex;\n",
              "  color: var(--sklearn-color-text);\n",
              "  box-shadow: 2pt 2pt 4pt #999;\n",
              "  /* unfitted */\n",
              "  background: var(--sklearn-color-unfitted-level-0);\n",
              "  border: .5pt solid var(--sklearn-color-unfitted-level-3);\n",
              "}\n",
              "\n",
              ".sk-estimator-doc-link.fitted span {\n",
              "  /* fitted */\n",
              "  background: var(--sklearn-color-fitted-level-0);\n",
              "  border: var(--sklearn-color-fitted-level-3);\n",
              "}\n",
              "\n",
              ".sk-estimator-doc-link:hover span {\n",
              "  display: block;\n",
              "}\n",
              "\n",
              "/* \"?\"-specific style due to the `<a>` HTML tag */\n",
              "\n",
              "#sk-container-id-5 a.estimator_doc_link {\n",
              "  float: right;\n",
              "  font-size: 1rem;\n",
              "  line-height: 1em;\n",
              "  font-family: monospace;\n",
              "  background-color: var(--sklearn-color-background);\n",
              "  border-radius: 1rem;\n",
              "  height: 1rem;\n",
              "  width: 1rem;\n",
              "  text-decoration: none;\n",
              "  /* unfitted */\n",
              "  color: var(--sklearn-color-unfitted-level-1);\n",
              "  border: var(--sklearn-color-unfitted-level-1) 1pt solid;\n",
              "}\n",
              "\n",
              "#sk-container-id-5 a.estimator_doc_link.fitted {\n",
              "  /* fitted */\n",
              "  border: var(--sklearn-color-fitted-level-1) 1pt solid;\n",
              "  color: var(--sklearn-color-fitted-level-1);\n",
              "}\n",
              "\n",
              "/* On hover */\n",
              "#sk-container-id-5 a.estimator_doc_link:hover {\n",
              "  /* unfitted */\n",
              "  background-color: var(--sklearn-color-unfitted-level-3);\n",
              "  color: var(--sklearn-color-background);\n",
              "  text-decoration: none;\n",
              "}\n",
              "\n",
              "#sk-container-id-5 a.estimator_doc_link.fitted:hover {\n",
              "  /* fitted */\n",
              "  background-color: var(--sklearn-color-fitted-level-3);\n",
              "}\n",
              "</style><div id=\"sk-container-id-5\" class=\"sk-top-container\"><div class=\"sk-text-repr-fallback\"><pre>LinearRegression()</pre><b>In a Jupyter environment, please rerun this cell to show the HTML representation or trust the notebook. <br />On GitHub, the HTML representation is unable to render, please try loading this page with nbviewer.org.</b></div><div class=\"sk-container\" hidden><div class=\"sk-item\"><div class=\"sk-estimator fitted sk-toggleable\"><input class=\"sk-toggleable__control sk-hidden--visually\" id=\"sk-estimator-id-5\" type=\"checkbox\" checked><label for=\"sk-estimator-id-5\" class=\"sk-toggleable__label fitted sk-toggleable__label-arrow fitted\">&nbsp;&nbsp;LinearRegression<a class=\"sk-estimator-doc-link fitted\" rel=\"noreferrer\" target=\"_blank\" href=\"https://scikit-learn.org/1.5/modules/generated/sklearn.linear_model.LinearRegression.html\">?<span>Documentation for LinearRegression</span></a><span class=\"sk-estimator-doc-link fitted\">i<span>Fitted</span></span></label><div class=\"sk-toggleable__content fitted\"><pre>LinearRegression()</pre></div> </div></div></div></div>"
            ],
            "text/plain": [
              "LinearRegression()"
            ]
          },
          "execution_count": 213,
          "metadata": {},
          "output_type": "execute_result"
        }
      ],
      "source": [
        "model.fit(x_train, y_train)"
      ]
    },
    {
      "cell_type": "code",
      "execution_count": 214,
      "metadata": {
        "id": "TlTrSBq9sM3o"
      },
      "outputs": [],
      "source": [
        "y_pred = model.predict(x_test)"
      ]
    },
    {
      "cell_type": "code",
      "execution_count": 215,
      "metadata": {
        "colab": {
          "base_uri": "https://localhost:8080/"
        },
        "id": "X8W_OO9IsQ1S",
        "outputId": "8ab2487d-0af8-4099-b24b-cf8c112071ba"
      },
      "outputs": [
        {
          "data": {
            "text/plain": [
              "0.9999301164998139"
            ]
          },
          "execution_count": 215,
          "metadata": {},
          "output_type": "execute_result"
        }
      ],
      "source": [
        "r2_score(y_test, y_pred)"
      ]
    },
    {
      "cell_type": "code",
      "execution_count": 216,
      "metadata": {
        "id": "shzUZzgGaBNU"
      },
      "outputs": [],
      "source": [
        "# Testing phase------------------------------------------------------------"
      ]
    },
    {
      "cell_type": "code",
      "execution_count": 217,
      "metadata": {
        "id": "ln9gYRFiDDX4"
      },
      "outputs": [],
      "source": [
        "def get_test_data(company, model):\n",
        "  data = yf.download(company, period='20d')\n",
        "  df = data.xs(company, axis=1, level='Ticker')\n",
        "  df = df.reset_index()\n",
        "  df.columns.name=None\n",
        "  x_test_data = df[['Date', 'High', 'Low', 'Open', 'Volume']]\n",
        "  y_test_data = df['Close']\n",
        "  y_pred_data = model.predict(x_test_data[['High', 'Low', 'Open', 'Volume']])\n",
        "  return x_test_data, y_test_data, y_pred_data"
      ]
    },
    {
      "cell_type": "code",
      "execution_count": 218,
      "metadata": {
        "colab": {
          "base_uri": "https://localhost:8080/"
        },
        "id": "lixT6wxPReiW",
        "outputId": "3a05e958-b170-446d-9ecf-d3079b39009a"
      },
      "outputs": [
        {
          "name": "stderr",
          "output_type": "stream",
          "text": [
            "[*********************100%***********************]  1 of 1 completed\n"
          ]
        }
      ],
      "source": [
        "x_test_data, y_test_data, y_pred_data = get_test_data('ICICIBANK.NS', model)"
      ]
    },
    {
      "cell_type": "code",
      "execution_count": 219,
      "metadata": {
        "colab": {
          "base_uri": "https://localhost:8080/",
          "height": 676
        },
        "id": "FG_QIuRyRuw8",
        "outputId": "1451e6e9-7dde-41a5-bdfe-17a5b7264428"
      },
      "outputs": [
        {
          "data": {
            "text/html": [
              "<div>\n",
              "<style scoped>\n",
              "    .dataframe tbody tr th:only-of-type {\n",
              "        vertical-align: middle;\n",
              "    }\n",
              "\n",
              "    .dataframe tbody tr th {\n",
              "        vertical-align: top;\n",
              "    }\n",
              "\n",
              "    .dataframe thead th {\n",
              "        text-align: right;\n",
              "    }\n",
              "</style>\n",
              "<table border=\"1\" class=\"dataframe\">\n",
              "  <thead>\n",
              "    <tr style=\"text-align: right;\">\n",
              "      <th></th>\n",
              "      <th>Date</th>\n",
              "      <th>High</th>\n",
              "      <th>Low</th>\n",
              "      <th>Open</th>\n",
              "      <th>Volume</th>\n",
              "    </tr>\n",
              "  </thead>\n",
              "  <tbody>\n",
              "    <tr>\n",
              "      <th>0</th>\n",
              "      <td>2025-03-18</td>\n",
              "      <td>1269.000000</td>\n",
              "      <td>1269.000000</td>\n",
              "      <td>1269.000000</td>\n",
              "      <td>0</td>\n",
              "    </tr>\n",
              "    <tr>\n",
              "      <th>1</th>\n",
              "      <td>2025-03-19</td>\n",
              "      <td>1318.300049</td>\n",
              "      <td>1302.150024</td>\n",
              "      <td>1305.599976</td>\n",
              "      <td>11278014</td>\n",
              "    </tr>\n",
              "    <tr>\n",
              "      <th>2</th>\n",
              "      <td>2025-03-20</td>\n",
              "      <td>1324.250000</td>\n",
              "      <td>1311.050049</td>\n",
              "      <td>1320.000000</td>\n",
              "      <td>10886735</td>\n",
              "    </tr>\n",
              "    <tr>\n",
              "      <th>3</th>\n",
              "      <td>2025-03-21</td>\n",
              "      <td>1349.000000</td>\n",
              "      <td>1311.599976</td>\n",
              "      <td>1316.000000</td>\n",
              "      <td>60494318</td>\n",
              "    </tr>\n",
              "    <tr>\n",
              "      <th>4</th>\n",
              "      <td>2025-03-24</td>\n",
              "      <td>1373.000000</td>\n",
              "      <td>1345.050049</td>\n",
              "      <td>1355.949951</td>\n",
              "      <td>9352280</td>\n",
              "    </tr>\n",
              "    <tr>\n",
              "      <th>5</th>\n",
              "      <td>2025-03-25</td>\n",
              "      <td>1363.800049</td>\n",
              "      <td>1330.050049</td>\n",
              "      <td>1359.000000</td>\n",
              "      <td>16419207</td>\n",
              "    </tr>\n",
              "    <tr>\n",
              "      <th>6</th>\n",
              "      <td>2025-03-26</td>\n",
              "      <td>1358.000000</td>\n",
              "      <td>1331.500000</td>\n",
              "      <td>1344.050049</td>\n",
              "      <td>10859639</td>\n",
              "    </tr>\n",
              "    <tr>\n",
              "      <th>7</th>\n",
              "      <td>2025-03-27</td>\n",
              "      <td>1351.500000</td>\n",
              "      <td>1333.150024</td>\n",
              "      <td>1333.150024</td>\n",
              "      <td>15109614</td>\n",
              "    </tr>\n",
              "    <tr>\n",
              "      <th>8</th>\n",
              "      <td>2025-03-28</td>\n",
              "      <td>1357.949951</td>\n",
              "      <td>1327.199951</td>\n",
              "      <td>1336.000000</td>\n",
              "      <td>8266544</td>\n",
              "    </tr>\n",
              "    <tr>\n",
              "      <th>9</th>\n",
              "      <td>2025-04-01</td>\n",
              "      <td>1352.349976</td>\n",
              "      <td>1315.400024</td>\n",
              "      <td>1340.000000</td>\n",
              "      <td>14288024</td>\n",
              "    </tr>\n",
              "    <tr>\n",
              "      <th>10</th>\n",
              "      <td>2025-04-02</td>\n",
              "      <td>1337.949951</td>\n",
              "      <td>1322.150024</td>\n",
              "      <td>1322.150024</td>\n",
              "      <td>8042214</td>\n",
              "    </tr>\n",
              "    <tr>\n",
              "      <th>11</th>\n",
              "      <td>2025-04-03</td>\n",
              "      <td>1333.000000</td>\n",
              "      <td>1321.250000</td>\n",
              "      <td>1321.949951</td>\n",
              "      <td>4591008</td>\n",
              "    </tr>\n",
              "    <tr>\n",
              "      <th>12</th>\n",
              "      <td>2025-04-04</td>\n",
              "      <td>1338.550049</td>\n",
              "      <td>1322.099976</td>\n",
              "      <td>1329.550049</td>\n",
              "      <td>8648542</td>\n",
              "    </tr>\n",
              "    <tr>\n",
              "      <th>13</th>\n",
              "      <td>2025-04-07</td>\n",
              "      <td>1325.000000</td>\n",
              "      <td>1265.000000</td>\n",
              "      <td>1295.250000</td>\n",
              "      <td>19185012</td>\n",
              "    </tr>\n",
              "    <tr>\n",
              "      <th>14</th>\n",
              "      <td>2025-04-08</td>\n",
              "      <td>1310.050049</td>\n",
              "      <td>1287.349976</td>\n",
              "      <td>1299.849976</td>\n",
              "      <td>13085762</td>\n",
              "    </tr>\n",
              "    <tr>\n",
              "      <th>15</th>\n",
              "      <td>2025-04-09</td>\n",
              "      <td>1305.099976</td>\n",
              "      <td>1284.500000</td>\n",
              "      <td>1304.949951</td>\n",
              "      <td>13005622</td>\n",
              "    </tr>\n",
              "    <tr>\n",
              "      <th>16</th>\n",
              "      <td>2025-04-11</td>\n",
              "      <td>1325.000000</td>\n",
              "      <td>1305.099976</td>\n",
              "      <td>1305.099976</td>\n",
              "      <td>13064247</td>\n",
              "    </tr>\n",
              "    <tr>\n",
              "      <th>17</th>\n",
              "      <td>2025-04-15</td>\n",
              "      <td>1354.300049</td>\n",
              "      <td>1336.199951</td>\n",
              "      <td>1351.000000</td>\n",
              "      <td>15202603</td>\n",
              "    </tr>\n",
              "    <tr>\n",
              "      <th>18</th>\n",
              "      <td>2025-04-16</td>\n",
              "      <td>1359.699951</td>\n",
              "      <td>1342.900024</td>\n",
              "      <td>1357.000000</td>\n",
              "      <td>14039073</td>\n",
              "    </tr>\n",
              "    <tr>\n",
              "      <th>19</th>\n",
              "      <td>2025-04-17</td>\n",
              "      <td>1408.900024</td>\n",
              "      <td>1360.099976</td>\n",
              "      <td>1362.000000</td>\n",
              "      <td>17490424</td>\n",
              "    </tr>\n",
              "  </tbody>\n",
              "</table>\n",
              "</div>"
            ],
            "text/plain": [
              "         Date         High          Low         Open    Volume\n",
              "0  2025-03-18  1269.000000  1269.000000  1269.000000         0\n",
              "1  2025-03-19  1318.300049  1302.150024  1305.599976  11278014\n",
              "2  2025-03-20  1324.250000  1311.050049  1320.000000  10886735\n",
              "3  2025-03-21  1349.000000  1311.599976  1316.000000  60494318\n",
              "4  2025-03-24  1373.000000  1345.050049  1355.949951   9352280\n",
              "5  2025-03-25  1363.800049  1330.050049  1359.000000  16419207\n",
              "6  2025-03-26  1358.000000  1331.500000  1344.050049  10859639\n",
              "7  2025-03-27  1351.500000  1333.150024  1333.150024  15109614\n",
              "8  2025-03-28  1357.949951  1327.199951  1336.000000   8266544\n",
              "9  2025-04-01  1352.349976  1315.400024  1340.000000  14288024\n",
              "10 2025-04-02  1337.949951  1322.150024  1322.150024   8042214\n",
              "11 2025-04-03  1333.000000  1321.250000  1321.949951   4591008\n",
              "12 2025-04-04  1338.550049  1322.099976  1329.550049   8648542\n",
              "13 2025-04-07  1325.000000  1265.000000  1295.250000  19185012\n",
              "14 2025-04-08  1310.050049  1287.349976  1299.849976  13085762\n",
              "15 2025-04-09  1305.099976  1284.500000  1304.949951  13005622\n",
              "16 2025-04-11  1325.000000  1305.099976  1305.099976  13064247\n",
              "17 2025-04-15  1354.300049  1336.199951  1351.000000  15202603\n",
              "18 2025-04-16  1359.699951  1342.900024  1357.000000  14039073\n",
              "19 2025-04-17  1408.900024  1360.099976  1362.000000  17490424"
            ]
          },
          "execution_count": 219,
          "metadata": {},
          "output_type": "execute_result"
        }
      ],
      "source": [
        "x_test_data"
      ]
    },
    {
      "cell_type": "code",
      "execution_count": 220,
      "metadata": {
        "colab": {
          "base_uri": "https://localhost:8080/",
          "height": 711
        },
        "id": "yNBIHtp8S4p6",
        "outputId": "71749f12-9d65-4a7d-d5ed-d4e13e284b1f"
      },
      "outputs": [
        {
          "data": {
            "text/plain": [
              "0     1269.000000\n",
              "1     1313.099976\n",
              "2     1321.699951\n",
              "3     1343.099976\n",
              "4     1358.150024\n",
              "5     1343.699951\n",
              "6     1335.900024\n",
              "7     1336.650024\n",
              "8     1348.349976\n",
              "9     1318.449951\n",
              "10    1331.250000\n",
              "11    1329.550049\n",
              "12    1335.300049\n",
              "13    1287.550049\n",
              "14    1299.900024\n",
              "15    1300.800049\n",
              "16    1311.650024\n",
              "17    1350.199951\n",
              "18    1356.400024\n",
              "19    1406.699951\n",
              "Name: Close, dtype: float64"
            ]
          },
          "execution_count": 220,
          "metadata": {},
          "output_type": "execute_result"
        }
      ],
      "source": [
        "y_test_data"
      ]
    },
    {
      "cell_type": "code",
      "execution_count": 221,
      "metadata": {
        "colab": {
          "base_uri": "https://localhost:8080/"
        },
        "id": "cq-OuMwtaKwT",
        "outputId": "3908b665-17e3-481c-c939-4dd906753c4b"
      },
      "outputs": [
        {
          "data": {
            "text/plain": [
              "array([1268.94163108, 1312.84656989, 1316.23359614, 1338.38174964,\n",
              "       1360.7984301 , 1339.95111732, 1345.14326566, 1347.55867197,\n",
              "       1346.38810716, 1330.36026427, 1334.56962671, 1330.07030586,\n",
              "       1330.73237979, 1294.95934093, 1298.01035378, 1288.90826455,\n",
              "       1320.75189142, 1341.86732292, 1347.94438057, 1397.53147206])"
            ]
          },
          "execution_count": 221,
          "metadata": {},
          "output_type": "execute_result"
        }
      ],
      "source": [
        "y_pred_data"
      ]
    },
    {
      "cell_type": "code",
      "execution_count": 222,
      "metadata": {
        "colab": {
          "base_uri": "https://localhost:8080/"
        },
        "id": "z2gCrMPHWgaL",
        "outputId": "aa89c6ba-af26-4849-ee6e-ae657b3dac08"
      },
      "outputs": [
        {
          "data": {
            "text/plain": [
              "0.9422872793063024"
            ]
          },
          "execution_count": 222,
          "metadata": {},
          "output_type": "execute_result"
        }
      ],
      "source": [
        "r2_score(y_test_data, y_pred_data)"
      ]
    },
    {
      "cell_type": "code",
      "execution_count": 223,
      "metadata": {
        "colab": {
          "base_uri": "https://localhost:8080/",
          "height": 616
        },
        "id": "ZqwGUUrZUVw8",
        "outputId": "4025d4a4-bf6e-4b75-e945-dc410a7b207a"
      },
      "outputs": [
        {
          "data": {
            "image/png": "[encoded data removed]",
            "text/plain": [
              "<Figure size 1400x600 with 1 Axes>"
            ]
          },
          "metadata": {},
          "output_type": "display_data"
        }
      ],
      "source": [
        "plt.figure(figsize=(14, 6))\n",
        "sns.lineplot(x=x_test_data['Date'], y=y_test_data, label='Actual', alpha=0.9, marker='o')\n",
        "sns.lineplot(x=x_test_data['Date'], y=y_pred_data, label='Predicted', alpha=0.9, marker='o')\n",
        "plt.xticks(rotation=45)\n",
        "plt.title('Actual closing price vs Predicted Closing Price')\n",
        "plt.legend()\n",
        "plt.show()\n"
      ]
    },
    {
      "cell_type": "code",
      "execution_count": 224,
      "metadata": {
        "id": "KZPDGFPQXOzn"
      },
      "outputs": [],
      "source": [
        "with open('model.pkl', 'wb') as file:\n",
        "    pickle.dump(model, file)"
      ]
    }
  ],
  "metadata": {
    "colab": {
      "provenance": []
    },
    "kernelspec": {
      "display_name": "base",
      "language": "python",
      "name": "python3"
    },
    "language_info": {
      "codemirror_mode": {
        "name": "ipython",
        "version": 3
      },
      "file_extension": ".py",
      "mimetype": "text/x-python",
      "name": "python",
      "nbconvert_exporter": "python",
      "pygments_lexer": "ipython3",
      "version": "3.12.7"
    }
  },
  "nbformat": 4,
  "nbformat_minor": 0
}
